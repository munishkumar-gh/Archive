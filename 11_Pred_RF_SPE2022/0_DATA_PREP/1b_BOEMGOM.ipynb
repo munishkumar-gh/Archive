{
 "cells": [
  {
   "cell_type": "markdown",
   "metadata": {},
   "source": [
    "<a href=\"https://www.spe.org/events/en/2022/conference/22apog/asia-pacific-oil-and-gas-conference-and-exhibition.html\"><img src = \"https://www.spe.org/binaries/content/gallery/specms/speevents/organization-logos/spe-logo-2020.png\" width = 200> \n",
    "\n",
    "<h1 align=center><font size = 5>Prediction of Recovery Factor using Machine Learning Methods</font></h1>"
   ]
  },
  {
   "cell_type": "markdown",
   "metadata": {},
   "source": [
    "<h1 align=center><font size = 4> Munish Kumar, Kannapan Swaminathan</font></h1>\n",
    "<h1 align=center><font size = 4> Part A: Data Cleaning and Processing</font></h1>\n",
    "<h1 align=center><font size = 3> ERCE 2022 </font></h1>"
   ]
  },
  {
   "cell_type": "markdown",
   "metadata": {},
   "source": [
    "1. https://www.kaggle.com/code/kkhandekar/an-introduction-to-pycaret/notebook.\n",
    "2. https://towardsdatascience.com/5-things-you-dont-know-about-pycaret-528db0436eec\n",
    "3. https://www.dataquest.io/blog/understanding-regression-error-metrics/ \n",
    "4. https://www.analyticsvidhya.com/blog/2021/07/automl-using-pycaret-with-a-regression-use-case/\n",
    "5. https://www.datacamp.com/community/tutorials/guide-for-automating-ml-workflows-using-pycaret\n",
    "6. https://pycaret.readthedocs.io/en/latest/api/regression.html\n",
    "7. http://www.pycaret.org/tutorials/html/REG102.html\n",
    "8. https://githubhelp.com/ray-project/tune-sklearn"
   ]
  },
  {
   "cell_type": "code",
   "execution_count": 1,
   "metadata": {},
   "outputs": [
    {
     "name": "stdout",
     "output_type": "stream",
     "text": [
      "Libraries imported\n"
     ]
    }
   ],
   "source": [
    "# Only install the following libraries if you dont have it, otherwise leave it commented out\n",
    "\n",
    "#!conda install -c anaconda natsort --yes\n",
    "#!conda install -c anaconda xlrd --yes\n",
    "#!conda install -c anaconda plotly --yes\n",
    "#!conda install -c anaconda folium --yes\n",
    "#!pip install folium\n",
    "\n",
    "# General Libraries\n",
    "import itertools\n",
    "import pandas as pd\n",
    "import numpy as np\n",
    "import matplotlib.pyplot as plt\n",
    "import matplotlib.ticker as ticker\n",
    "from matplotlib.ticker import NullFormatter\n",
    "import time\n",
    "import re\n",
    "import requests\n",
    "import pickle\n",
    "import seaborn as sns\n",
    "import os\n",
    "import glob\n",
    "import sys\n",
    "from natsort import natsorted\n",
    "sns.set()\n",
    "\n",
    "import plotly.graph_objects as go\n",
    "import plotly.express as px\n",
    "import warnings\n",
    "warnings.filterwarnings('ignore')\n",
    "\n",
    "# Sklearn Liraries\n",
    "from sklearn import preprocessing\n",
    "\n",
    "import datetime\n",
    "from datetime import timedelta, date \n",
    "start = time.time()\n",
    "%matplotlib inline\n",
    "\n",
    "import folium\n",
    "import shapefile as shp\n",
    "\n",
    "# Forces the print statement to show everything and not truncate\n",
    "# np.set_printoptions(threshold=sys.maxsize) \n",
    "print('Libraries imported')"
   ]
  },
  {
   "cell_type": "code",
   "execution_count": 2,
   "metadata": {},
   "outputs": [],
   "source": [
    "#Receive Data\n",
    "#dir_name = r'C:\\Users\\mkumar\\Documents\\GitHub\\munishkumar-gh.github.io\\@Working\\SPE_Paper'\n",
    "dir_name = r'C:\\Users\\kswaminathan\\OneDrive\\01_KannaLibrary\\15_Analogs'\n",
    "filename_suffix = 'xlsx'"
   ]
  },
  {
   "cell_type": "code",
   "execution_count": 3,
   "metadata": {},
   "outputs": [
    {
     "data": {
      "text/html": [
       "<div>\n",
       "<style scoped>\n",
       "    .dataframe tbody tr th:only-of-type {\n",
       "        vertical-align: middle;\n",
       "    }\n",
       "\n",
       "    .dataframe tbody tr th {\n",
       "        vertical-align: top;\n",
       "    }\n",
       "\n",
       "    .dataframe thead th {\n",
       "        text-align: right;\n",
       "    }\n",
       "</style>\n",
       "<table border=\"1\" class=\"dataframe\">\n",
       "  <thead>\n",
       "    <tr style=\"text-align: right;\">\n",
       "      <th></th>\n",
       "      <th>SN_FORMSAND</th>\n",
       "      <th>SAND_NAME</th>\n",
       "      <th>ASSESSED</th>\n",
       "      <th>SDDATE</th>\n",
       "      <th>SDYEAR</th>\n",
       "      <th>SDDATEH</th>\n",
       "      <th>SDYEARH</th>\n",
       "      <th>WELLAPI</th>\n",
       "      <th>BOEM_FIELD</th>\n",
       "      <th>FCLASS</th>\n",
       "      <th>...</th>\n",
       "      <th>GRECO</th>\n",
       "      <th>GRECG</th>\n",
       "      <th>GRP</th>\n",
       "      <th>NCNT</th>\n",
       "      <th>UCNT</th>\n",
       "      <th>SCNT</th>\n",
       "      <th>TCNT</th>\n",
       "      <th>BHCOMP</th>\n",
       "      <th>LAT</th>\n",
       "      <th>LONG</th>\n",
       "    </tr>\n",
       "  </thead>\n",
       "  <tbody>\n",
       "    <tr>\n",
       "      <th>0</th>\n",
       "      <td>2</td>\n",
       "      <td>1761_BA001A_6500_1M</td>\n",
       "      <td>Y</td>\n",
       "      <td>1970-09-02</td>\n",
       "      <td>1970</td>\n",
       "      <td>1970-09-02</td>\n",
       "      <td>1970</td>\n",
       "      <td>427043003600</td>\n",
       "      <td>BA001A</td>\n",
       "      <td>PDN</td>\n",
       "      <td>...</td>\n",
       "      <td>347911</td>\n",
       "      <td>21585148</td>\n",
       "      <td>62.042</td>\n",
       "      <td>1</td>\n",
       "      <td>0</td>\n",
       "      <td>0</td>\n",
       "      <td>1</td>\n",
       "      <td>3.0</td>\n",
       "      <td>28.344173</td>\n",
       "      <td>-95.304180</td>\n",
       "    </tr>\n",
       "    <tr>\n",
       "      <th>1</th>\n",
       "      <td>3</td>\n",
       "      <td>1761_BA001A_6500_2M</td>\n",
       "      <td>Y</td>\n",
       "      <td>1970-09-02</td>\n",
       "      <td>1970</td>\n",
       "      <td>1970-09-02</td>\n",
       "      <td>1970</td>\n",
       "      <td>427043003600</td>\n",
       "      <td>BA001A</td>\n",
       "      <td>PDN</td>\n",
       "      <td>...</td>\n",
       "      <td>6605</td>\n",
       "      <td>500530</td>\n",
       "      <td>75.780</td>\n",
       "      <td>1</td>\n",
       "      <td>0</td>\n",
       "      <td>0</td>\n",
       "      <td>1</td>\n",
       "      <td>1.0</td>\n",
       "      <td>28.344173</td>\n",
       "      <td>-95.304180</td>\n",
       "    </tr>\n",
       "    <tr>\n",
       "      <th>2</th>\n",
       "      <td>4</td>\n",
       "      <td>1761_BA001A_6500_3M</td>\n",
       "      <td>Y</td>\n",
       "      <td>1970-09-02</td>\n",
       "      <td>1970</td>\n",
       "      <td>1970-09-02</td>\n",
       "      <td>1970</td>\n",
       "      <td>427043003600</td>\n",
       "      <td>BA001A</td>\n",
       "      <td>PDN</td>\n",
       "      <td>...</td>\n",
       "      <td>52501</td>\n",
       "      <td>2985295</td>\n",
       "      <td>56.862</td>\n",
       "      <td>1</td>\n",
       "      <td>0</td>\n",
       "      <td>0</td>\n",
       "      <td>1</td>\n",
       "      <td>1.0</td>\n",
       "      <td>28.344173</td>\n",
       "      <td>-95.304180</td>\n",
       "    </tr>\n",
       "    <tr>\n",
       "      <th>3</th>\n",
       "      <td>5</td>\n",
       "      <td>1761_BA001A_6500_5M</td>\n",
       "      <td>Y</td>\n",
       "      <td>1973-04-04</td>\n",
       "      <td>1973</td>\n",
       "      <td>1973-04-04</td>\n",
       "      <td>1973</td>\n",
       "      <td>427044000900</td>\n",
       "      <td>BA001A</td>\n",
       "      <td>PDN</td>\n",
       "      <td>...</td>\n",
       "      <td>56451</td>\n",
       "      <td>2842043</td>\n",
       "      <td>50.345</td>\n",
       "      <td>1</td>\n",
       "      <td>0</td>\n",
       "      <td>0</td>\n",
       "      <td>1</td>\n",
       "      <td>1.0</td>\n",
       "      <td>28.348074</td>\n",
       "      <td>-95.300825</td>\n",
       "    </tr>\n",
       "    <tr>\n",
       "      <th>4</th>\n",
       "      <td>6</td>\n",
       "      <td>1761_BA001A_6500_6M</td>\n",
       "      <td>Y</td>\n",
       "      <td>1970-09-02</td>\n",
       "      <td>1970</td>\n",
       "      <td>1970-09-02</td>\n",
       "      <td>1970</td>\n",
       "      <td>427043003600</td>\n",
       "      <td>BA001A</td>\n",
       "      <td>PDN</td>\n",
       "      <td>...</td>\n",
       "      <td>57159</td>\n",
       "      <td>3741506</td>\n",
       "      <td>65.458</td>\n",
       "      <td>1</td>\n",
       "      <td>0</td>\n",
       "      <td>0</td>\n",
       "      <td>1</td>\n",
       "      <td>1.0</td>\n",
       "      <td>28.344173</td>\n",
       "      <td>-95.304180</td>\n",
       "    </tr>\n",
       "  </tbody>\n",
       "</table>\n",
       "<p>5 rows × 81 columns</p>\n",
       "</div>"
      ],
      "text/plain": [
       "   SN_FORMSAND            SAND_NAME ASSESSED     SDDATE  SDYEAR    SDDATEH  \\\n",
       "0            2  1761_BA001A_6500_1M        Y 1970-09-02    1970 1970-09-02   \n",
       "1            3  1761_BA001A_6500_2M        Y 1970-09-02    1970 1970-09-02   \n",
       "2            4  1761_BA001A_6500_3M        Y 1970-09-02    1970 1970-09-02   \n",
       "3            5  1761_BA001A_6500_5M        Y 1973-04-04    1973 1973-04-04   \n",
       "4            6  1761_BA001A_6500_6M        Y 1970-09-02    1970 1970-09-02   \n",
       "\n",
       "   SDYEARH       WELLAPI BOEM_FIELD FCLASS  ...   GRECO     GRECG     GRP  \\\n",
       "0     1970  427043003600     BA001A    PDN  ...  347911  21585148  62.042   \n",
       "1     1970  427043003600     BA001A    PDN  ...    6605    500530  75.780   \n",
       "2     1970  427043003600     BA001A    PDN  ...   52501   2985295  56.862   \n",
       "3     1973  427044000900     BA001A    PDN  ...   56451   2842043  50.345   \n",
       "4     1970  427043003600     BA001A    PDN  ...   57159   3741506  65.458   \n",
       "\n",
       "  NCNT UCNT  SCNT  TCNT BHCOMP        LAT       LONG  \n",
       "0    1    0     0     1    3.0  28.344173 -95.304180  \n",
       "1    1    0     0     1    1.0  28.344173 -95.304180  \n",
       "2    1    0     0     1    1.0  28.344173 -95.304180  \n",
       "3    1    0     0     1    1.0  28.348074 -95.300825  \n",
       "4    1    0     0     1    1.0  28.344173 -95.304180  \n",
       "\n",
       "[5 rows x 81 columns]"
      ]
     },
     "execution_count": 3,
     "metadata": {},
     "output_type": "execute_result"
    }
   ],
   "source": [
    "skiprows = 0\n",
    "#Means read in the ',' as thousand seperator. Also drops all columns which are unnamed.\n",
    "df = pd.read_excel(\"2019 Atlas Update.xlsx\", thousands=',', skiprows = skiprows)\n",
    "df = df.loc[:, ~df.columns.str.contains('^Unnamed')] \n",
    "df.head()"
   ]
  },
  {
   "cell_type": "code",
   "execution_count": 4,
   "metadata": {},
   "outputs": [
    {
     "name": "stdout",
     "output_type": "stream",
     "text": [
      "<class 'pandas.core.frame.DataFrame'>\n",
      "RangeIndex: 13394 entries, 0 to 13393\n",
      "Data columns (total 81 columns):\n",
      " #   Column        Non-Null Count  Dtype         \n",
      "---  ------        --------------  -----         \n",
      " 0   SN_FORMSAND   13394 non-null  int64         \n",
      " 1   SAND_NAME     13394 non-null  object        \n",
      " 2   ASSESSED      13394 non-null  object        \n",
      " 3   SDDATE        13394 non-null  datetime64[ns]\n",
      " 4   SDYEAR        13394 non-null  int64         \n",
      " 5   SDDATEH       13394 non-null  datetime64[ns]\n",
      " 6   SDYEARH       13394 non-null  int64         \n",
      " 7   WELLAPI       13394 non-null  int64         \n",
      " 8   BOEM_FIELD    13394 non-null  object        \n",
      " 9   FCLASS        13394 non-null  object        \n",
      " 10  FSTAT         13394 non-null  object        \n",
      " 11  FSTRUC        13392 non-null  object        \n",
      " 12  FTRAP1        12762 non-null  object        \n",
      " 13  FTRAP2        4433 non-null   object        \n",
      " 14  FDDATE        13394 non-null  datetime64[ns]\n",
      " 15  FDYEAR        13394 non-null  int64         \n",
      " 16  EIAID         13389 non-null  float64       \n",
      " 17  PLAREA        13394 non-null  object        \n",
      " 18  SAND          13393 non-null  object        \n",
      " 19  PLAY_NUM      13394 non-null  int64         \n",
      " 20  PLAY_NAME     13394 non-null  object        \n",
      " 21  POOL_NAME     13394 non-null  object        \n",
      " 22  CHRONOZONE    13394 non-null  object        \n",
      " 23  PLAY_TYPE     13394 non-null  object        \n",
      " 24  SD_TYPE       13030 non-null  object        \n",
      " 25  WDEP          13394 non-null  int64         \n",
      " 26  Original Oil  13394 non-null  int64         \n",
      " 27  Original Gas  13394 non-null  int64         \n",
      " 28  Original BOE  13394 non-null  int64         \n",
      " 29  Cum Oil       13394 non-null  int64         \n",
      " 30  Cum Gas       13394 non-null  int64         \n",
      " 31  Cum BOE       13394 non-null  int64         \n",
      " 32  Oil Reserves  13394 non-null  int64         \n",
      " 33  Gas Reserves  13394 non-null  int64         \n",
      " 34  BOE Reserves  13394 non-null  int64         \n",
      " 35  SS            13394 non-null  int64         \n",
      " 36  THK           13394 non-null  float64       \n",
      " 37  TAREA         13394 non-null  int64         \n",
      " 38  TVOL          13394 non-null  int64         \n",
      " 39  OTHK          13394 non-null  float64       \n",
      " 40  OAREA         13394 non-null  int64         \n",
      " 41  OVOL          13394 non-null  int64         \n",
      " 42  GTHK          13394 non-null  float64       \n",
      " 43  GAREA         13394 non-null  int64         \n",
      " 44  GVOL          13394 non-null  int64         \n",
      " 45  DRIVE         13394 non-null  object        \n",
      " 46  RESTYP        13394 non-null  object        \n",
      " 47  POROSITY      13394 non-null  float64       \n",
      " 48  SW            13394 non-null  float64       \n",
      " 49  PERMEABILITY  13302 non-null  float64       \n",
      " 50  Pi            13394 non-null  int64         \n",
      " 51  TI            13394 non-null  float64       \n",
      " 52  SDPG          13393 non-null  float64       \n",
      " 53  SDTG          13393 non-null  float64       \n",
      " 54  RSI           13394 non-null  int64         \n",
      " 55  YIELD         13394 non-null  float64       \n",
      " 56  PROP          13394 non-null  float64       \n",
      " 57  GOR           12468 non-null  float64       \n",
      " 58  SPGR          13394 non-null  float64       \n",
      " 59  API           13394 non-null  int64         \n",
      " 60  BGI           13394 non-null  int64         \n",
      " 61  BOI           13394 non-null  float64       \n",
      " 62  RECO_AF       13394 non-null  float64       \n",
      " 63  RECG_AF       13394 non-null  float64       \n",
      " 64  OIP           13394 non-null  int64         \n",
      " 65  GIP           13394 non-null  int64         \n",
      " 66  ORF           13394 non-null  float64       \n",
      " 67  ORECO         13394 non-null  int64         \n",
      " 68  ORECG         13394 non-null  int64         \n",
      " 69  ORP           13394 non-null  float64       \n",
      " 70  GRF           13394 non-null  float64       \n",
      " 71  GRECO         13394 non-null  int64         \n",
      " 72  GRECG         13394 non-null  int64         \n",
      " 73  GRP           13394 non-null  float64       \n",
      " 74  NCNT          13394 non-null  int64         \n",
      " 75  UCNT          13394 non-null  int64         \n",
      " 76  SCNT          13394 non-null  int64         \n",
      " 77  TCNT          13394 non-null  int64         \n",
      " 78  BHCOMP        12847 non-null  float64       \n",
      " 79  LAT           13394 non-null  float64       \n",
      " 80  LONG          13394 non-null  float64       \n",
      "dtypes: datetime64[ns](3), float64(24), int64(37), object(17)\n",
      "memory usage: 8.3+ MB\n"
     ]
    }
   ],
   "source": [
    "df.info()"
   ]
  },
  {
   "cell_type": "code",
   "execution_count": 5,
   "metadata": {},
   "outputs": [
    {
     "data": {
      "image/png": "[encoded data removed]",
      "text/plain": [
       "<Figure size 1800x576 with 2 Axes>"
      ]
     },
     "metadata": {
      "needs_background": "light"
     },
     "output_type": "display_data"
    }
   ],
   "source": [
    "#check for missing values\n",
    "fig, ax = plt.subplots(figsize=(25,8))\n",
    "sns.heatmap(df.isnull(), ax=ax, cmap=\"magma\")\n",
    "plt.grid()\n",
    "plt.show()"
   ]
  },
  {
   "cell_type": "code",
   "execution_count": 6,
   "metadata": {},
   "outputs": [
    {
     "name": "stdout",
     "output_type": "stream",
     "text": [
      "(13394, 81)\n"
     ]
    }
   ],
   "source": [
    "print(df.shape)"
   ]
  },
  {
   "cell_type": "code",
   "execution_count": 7,
   "metadata": {},
   "outputs": [],
   "source": [
    "columns = df.applymap(np.isreal).all()"
   ]
  },
  {
   "cell_type": "code",
   "execution_count": 8,
   "metadata": {},
   "outputs": [
    {
     "name": "stdout",
     "output_type": "stream",
     "text": [
      "True     64\n",
      "False    17\n",
      "dtype: int64\n"
     ]
    }
   ],
   "source": [
    "print((columns).value_counts())"
   ]
  },
  {
   "cell_type": "code",
   "execution_count": 9,
   "metadata": {},
   "outputs": [],
   "source": [
    "# SCREEN 1 Drop Unnecessary Columns\n",
    "df.drop(['SN_FORMSAND', 'ASSESSED', 'SDDATE', 'SDYEAR', 'SDDATEH', 'SDYEARH', 'WELLAPI', 'FCLASS', 'FSTAT', 'FSTRUC', \n",
    "              'FTRAP1', 'FTRAP2', 'FDDATE', 'FDYEAR', 'EIAID', 'PLAREA', 'SAND', \n",
    "              'PLAY_NUM', 'PLAY_NAME', 'POOL_NAME', 'PLAY_TYPE', 'SD_TYPE', 'WDEP', 'Original Gas', \n",
    "              'Original BOE', 'Cum Oil', 'Cum Gas', 'Cum BOE', 'Oil Reserves', 'Gas Reserves', 'BOE Reserves', 'TVOL', \n",
    "              'OTHK', 'OAREA', 'OVOL', 'GVOL', 'RESTYP', 'SDPG', 'SDTG', 'YIELD', 'PROP', 'SPGR', 'BGI', 'RECO_AF', 'RECG_AF', \n",
    "              'OIP', 'GIP', 'ORECO', 'ORECG', 'ORP', 'GRECO', 'GRECG', 'GRP', 'NCNT', 'UCNT', 'SCNT', 'TCNT', 'BHCOMP'\n",
    "               ], axis=1, inplace=True)"
   ]
  },
  {
   "cell_type": "code",
   "execution_count": 10,
   "metadata": {},
   "outputs": [
    {
     "name": "stdout",
     "output_type": "stream",
     "text": [
      "(13394, 23)\n"
     ]
    }
   ],
   "source": [
    "print(df.shape)"
   ]
  },
  {
   "cell_type": "code",
   "execution_count": 11,
   "metadata": {},
   "outputs": [
    {
     "data": {
      "image/png": "[encoded data removed]",
      "text/plain": [
       "<Figure size 1800x2160 with 20 Axes>"
      ]
     },
     "metadata": {
      "needs_background": "light"
     },
     "output_type": "display_data"
    }
   ],
   "source": [
    "#Plot variables - Data Exploration \n",
    "fig_ = df.hist(figsize=(25, 30), bins=50, color=\"darkcyan\",\n",
    "                         edgecolor=\"black\", xlabelsize=8, ylabelsize=8)"
   ]
  },
  {
   "cell_type": "code",
   "execution_count": 12,
   "metadata": {},
   "outputs": [],
   "source": [
    "# SCREEN 2 Drop Unnecessary Columns\n",
    "df.drop(['GRF'\n",
    "               ], axis=1, inplace=True)"
   ]
  },
  {
   "cell_type": "code",
   "execution_count": null,
   "metadata": {},
   "outputs": [],
   "source": [
    "# SCREEN 2a Drop Unnecessary Columns\n",
    "df.drop(['LAT', 'LONG'\n",
    "               ], axis=1, inplace=True)"
   ]
  },
  {
   "cell_type": "code",
   "execution_count": null,
   "metadata": {},
   "outputs": [],
   "source": [
    "#Plot variables - Data Exploration \n",
    "fig_ = df.hist(figsize=(25, 30), bins=50, color=\"green\",\n",
    "                         edgecolor=\"black\", xlabelsize=8, ylabelsize=8)"
   ]
  },
  {
   "cell_type": "code",
   "execution_count": null,
   "metadata": {},
   "outputs": [],
   "source": [
    "#Check Output varibale RFs\n",
    "sns.set(rc = {\"figure.figsize\" : (11, 7)})\n",
    "sns.distplot(df[\"ORF\"], color = \"black\");"
   ]
  },
  {
   "cell_type": "code",
   "execution_count": null,
   "metadata": {},
   "outputs": [],
   "source": [
    "#Drop rows with no RFs\n",
    "df = df[df['ORF'] != 0]"
   ]
  },
  {
   "cell_type": "code",
   "execution_count": null,
   "metadata": {},
   "outputs": [],
   "source": [
    "#Plot URF output variable \n",
    "sns.set(rc = {\"figure.figsize\" : (11, 7)})\n",
    "sns.distplot(df[\"ORF\"], color = \"black\");"
   ]
  },
  {
   "cell_type": "code",
   "execution_count": null,
   "metadata": {},
   "outputs": [],
   "source": [
    "df.shape"
   ]
  },
  {
   "cell_type": "code",
   "execution_count": null,
   "metadata": {},
   "outputs": [],
   "source": [
    "fig_ = df.hist(figsize=(25, 30), bins=50, color=\"red\",\n",
    "                         edgecolor=\"black\", xlabelsize=8, ylabelsize=8)"
   ]
  },
  {
   "cell_type": "code",
   "execution_count": null,
   "metadata": {},
   "outputs": [],
   "source": [
    "pd.set_option('display.max_rows', None)"
   ]
  },
  {
   "cell_type": "code",
   "execution_count": null,
   "metadata": {},
   "outputs": [],
   "source": [
    "#a = 'Trap Type'\n",
    "#print(df['API Gravity'].value_counts())\n",
    "#df['API Gravity'](-1).count()\n",
    "#df[a].value_counts()\n",
    "#print(df[a].where(df[a] < 0).count())\n",
    "#print(df[a].where(df[a] == 0).count())"
   ]
  },
  {
   "cell_type": "code",
   "execution_count": null,
   "metadata": {},
   "outputs": [],
   "source": [
    "(df == 0).sum()"
   ]
  },
  {
   "cell_type": "code",
   "execution_count": null,
   "metadata": {},
   "outputs": [],
   "source": [
    "df.drop(['GTHK', 'GAREA', 'GOR'\n",
    "               ], axis=1, inplace=True)"
   ]
  },
  {
   "cell_type": "code",
   "execution_count": null,
   "metadata": {},
   "outputs": [],
   "source": [
    "(df == 0).sum()"
   ]
  },
  {
   "cell_type": "code",
   "execution_count": null,
   "metadata": {},
   "outputs": [],
   "source": [
    "df.isnull().sum()"
   ]
  },
  {
   "cell_type": "code",
   "execution_count": null,
   "metadata": {},
   "outputs": [],
   "source": [
    "df2 = df._get_numeric_data()"
   ]
  },
  {
   "cell_type": "code",
   "execution_count": null,
   "metadata": {},
   "outputs": [],
   "source": [
    "(df2 < 0).sum()"
   ]
  },
  {
   "cell_type": "code",
   "execution_count": null,
   "metadata": {},
   "outputs": [],
   "source": [
    "df = df[df['PERMEABILITY'] != 0]"
   ]
  },
  {
   "cell_type": "code",
   "execution_count": null,
   "metadata": {},
   "outputs": [],
   "source": [
    "df = df.dropna()"
   ]
  },
  {
   "cell_type": "code",
   "execution_count": null,
   "metadata": {},
   "outputs": [],
   "source": [
    "df = df[df['SS'] != 0]"
   ]
  },
  {
   "cell_type": "code",
   "execution_count": null,
   "metadata": {},
   "outputs": [],
   "source": [
    "df.shape"
   ]
  },
  {
   "cell_type": "code",
   "execution_count": null,
   "metadata": {},
   "outputs": [],
   "source": [
    "df['PERMEABILITY'].describe()"
   ]
  },
  {
   "cell_type": "code",
   "execution_count": null,
   "metadata": {},
   "outputs": [],
   "source": [
    "df.drop(['SAND_NAME', 'BOEM_FIELD'\n",
    "               ], axis=1, inplace=True)"
   ]
  },
  {
   "cell_type": "markdown",
   "metadata": {},
   "source": [
    "## Generate values for temperature as a function of depth (Dummy)"
   ]
  },
  {
   "cell_type": "code",
   "execution_count": null,
   "metadata": {},
   "outputs": [],
   "source": [
    "# Generate values for missing permeability values as a function of porosity\n",
    "a = df['SS']\n",
    "b = df['TI']\n",
    "\n",
    "#b1 = df['RPT_Viscosity']\n",
    "\n",
    "plt.figure(figsize=(14, 8))\n",
    "plt.scatter(a, b, color='blue')\n",
    "#plt.scatter(a, b1, color='orange')\n",
    "plt.xlabel(\"Depth (TVDss ft)\", size=14)\n",
    "plt.ylabel(\"Temperature (DegF))\", size=14)\n",
    "#plt.yscale('log', nonposy='clip')\n",
    "#plt.ylim([0.01, 100000])\n",
    "#plt.gca().invert_yaxis()\n",
    "plt.gca().invert_yaxis()\n",
    "\n",
    "\n",
    "\n",
    "#plt.tight_layout()\n",
    "plt.show()"
   ]
  },
  {
   "cell_type": "code",
   "execution_count": null,
   "metadata": {},
   "outputs": [],
   "source": [
    "from sklearn.linear_model import LinearRegression\n",
    "\n",
    "lr = LinearRegression()\n",
    "#fit = np.polyfit(np.log(x), y, 1)\n",
    "\n",
    "cdf2 = df[['TI', 'SS']]\n",
    "testdf2 = cdf2[cdf2['TI'].isnull()==False].fillna(0)\n",
    "traindf2 = cdf2[cdf2['TI'].isnull()==False].fillna(0)\n",
    "\n",
    "y2 = df['TI']\n",
    "traindf2.drop('TI', axis=1, inplace=True)\n",
    "#ln_y2 = np.log(y2)\n",
    "\n",
    "lr.fit(traindf2,y2)\n",
    "testdf2.drop('TI', axis=1, inplace=True)\n",
    "pred = lr.predict(testdf2)\n",
    "#pred2 = np.exp(lr.predict(testdf2))\n",
    "testdf2['TI'] = pred\n",
    "\n",
    "\n",
    "#Coefficients\n",
    "print(\"Gradient: \", lr.coef_)\n",
    "print(\"Intercept: \", lr.intercept_)\n",
    "\n",
    "testdf2 = testdf2.rename(columns={'SS': 'RPT_SS', \n",
    "                                'TI': 'RPT_TI'\n",
    "                               })"
   ]
  },
  {
   "cell_type": "code",
   "execution_count": null,
   "metadata": {},
   "outputs": [],
   "source": [
    "df = pd.concat([df, testdf2], axis=1)"
   ]
  },
  {
   "cell_type": "code",
   "execution_count": null,
   "metadata": {},
   "outputs": [],
   "source": [
    "# Generate values for missing permeability values as a function of porosity\n",
    "a = df['SS']\n",
    "b = df['TI']\n",
    "\n",
    "b1 = df['RPT_TI']\n",
    "\n",
    "plt.figure(figsize=(14, 8))\n",
    "plt.scatter(a, b, color='blue')\n",
    "plt.scatter(a, b1, color='orange')\n",
    "plt.xlabel(\"SS\", size=14)\n",
    "plt.ylabel(\"TI\", size=14)\n",
    "#plt.yscale('log', nonposy='clip')\n",
    "#plt.ylim([0.01, 100000])\n",
    "plt.gca().invert_yaxis()\n",
    "\n",
    "\n",
    "\n",
    "#plt.tight_layout()\n",
    "plt.show()"
   ]
  },
  {
   "cell_type": "code",
   "execution_count": null,
   "metadata": {},
   "outputs": [],
   "source": [
    "df = df.drop([\n",
    "    'RPT_TI', 'RPT_SS', \n",
    "], axis = 1) "
   ]
  },
  {
   "cell_type": "code",
   "execution_count": null,
   "metadata": {},
   "outputs": [],
   "source": [
    "# Generate values for missing permeability values as a function of porosity\n",
    "a = df['POROSITY']\n",
    "b = df['PERMEABILITY']\n",
    "\n",
    "#b1 = df['RPT_Viscosity']\n",
    "\n",
    "plt.figure(figsize=(14, 8))\n",
    "plt.scatter(a, b, color='blue')\n",
    "#plt.scatter(a, b1, color='orange')\n",
    "plt.xlabel(\"Por\", size=14)\n",
    "plt.ylabel(\"Perm\", size=14)\n",
    "plt.yscale('log', nonposy='clip')\n",
    "plt.ylim([0.01, 100000])\n",
    "#plt.gca().invert_yaxis()\n",
    "\n",
    "\n",
    "\n",
    "#plt.tight_layout()\n",
    "plt.show()"
   ]
  },
  {
   "cell_type": "code",
   "execution_count": null,
   "metadata": {},
   "outputs": [],
   "source": [
    "df.to_excel(r'dfBOEMGOM.xlsx', index = False, header=True)"
   ]
  },
  {
   "cell_type": "code",
   "execution_count": null,
   "metadata": {},
   "outputs": [],
   "source": []
  },
  {
   "cell_type": "code",
   "execution_count": null,
   "metadata": {},
   "outputs": [],
   "source": []
  },
  {
   "cell_type": "code",
   "execution_count": null,
   "metadata": {},
   "outputs": [],
   "source": []
  },
  {
   "cell_type": "code",
   "execution_count": null,
   "metadata": {},
   "outputs": [],
   "source": []
  }
 ],
 "metadata": {
  "kernelspec": {
   "display_name": "Python 3",
   "language": "python",
   "name": "python3"
  },
  "language_info": {
   "codemirror_mode": {
    "name": "ipython",
    "version": 3
   },
   "file_extension": ".py",
   "mimetype": "text/x-python",
   "name": "python",
   "nbconvert_exporter": "python",
   "pygments_lexer": "ipython3",
   "version": "3.8.3"
  }
 },
 "nbformat": 4,
 "nbformat_minor": 4
}
