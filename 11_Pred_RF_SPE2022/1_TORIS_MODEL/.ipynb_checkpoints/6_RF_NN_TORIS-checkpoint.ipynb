{
 "cells": [
  {
   "cell_type": "markdown",
   "id": "dc4358d8",
   "metadata": {},
   "source": [
    "#### Libraries"
   ]
  },
  {
   "cell_type": "code",
   "execution_count": 1,
   "id": "7fe4e6b4",
   "metadata": {},
   "outputs": [
    {
     "name": "stdout",
     "output_type": "stream",
     "text": [
      "Libraries imported\n"
     ]
    }
   ],
   "source": [
    "# Only install the following libraries if you dont have it, otherwise leave it commented out\n",
    "\n",
    "#!conda install -c anaconda natsort --yes\n",
    "#!conda install -c anaconda xlrd --yes\n",
    "\n",
    "#!pip install natsort --user\n",
    "#!pip install xlrd --user\n",
    "#!pip install pycaret[full] --user\n",
    "#!pip install mlflow --user\n",
    "#!pip install tune-sklearn ray[tune] --user\n",
    "#!pip install optuna -- user\n",
    "#!pip install hyperopt --user\n",
    "#!pip install redis --user\n",
    "\n",
    "# General Libraries\n",
    "import itertools\n",
    "import pandas as pd\n",
    "import numpy as np\n",
    "import matplotlib.pyplot as plt\n",
    "import matplotlib.ticker as ticker\n",
    "from matplotlib.ticker import NullFormatter\n",
    "import time\n",
    "import re\n",
    "import requests\n",
    "import pickle\n",
    "import seaborn as sns\n",
    "import os\n",
    "import glob\n",
    "import sys\n",
    "from natsort import natsorted\n",
    "sns.set()\n",
    "\n",
    "import plotly.graph_objects as go\n",
    "import plotly.express as px\n",
    "import warnings\n",
    "warnings.filterwarnings('ignore')\n",
    "\n",
    "# Sklearn Liraries\n",
    "from sklearn import preprocessing\n",
    "\n",
    "import datetime\n",
    "from datetime import timedelta, date \n",
    "start = time.time()\n",
    "%matplotlib inline\n",
    "\n",
    "import ray\n",
    "from ray import tune\n",
    "\n",
    "# Forces the print statement to show everything and not truncate\n",
    "# np.set_printoptions(threshold=sys.maxsize) \n",
    "print('Libraries imported')"
   ]
  },
  {
   "cell_type": "code",
   "execution_count": 2,
   "id": "b122bf21",
   "metadata": {},
   "outputs": [],
   "source": [
    "#Receive Data\n",
    "#dir_name = r'C:\\Users\\kswaminathan\\OneDrive\\01_KannaLibrary\\15_Analogs'\n",
    "#dir_name = r'C:\\Users\\mkumar\\Documents\\GitHub\\@Papers\\SPE2022\\Final\\1_TORIS_MODEL'\n",
    "dir_name = r'C:\\Users\\quant\\Documents\\Github_Archive\\11_Pred_RF_SPE2022\\1_TORIS_MODEL'\n",
    "filename_suffix = 'csv'"
   ]
  },
  {
   "cell_type": "code",
   "execution_count": 3,
   "id": "4a7884ec",
   "metadata": {},
   "outputs": [
    {
     "data": {
      "text/html": [
       "<div>\n",
       "<style scoped>\n",
       "    .dataframe tbody tr th:only-of-type {\n",
       "        vertical-align: middle;\n",
       "    }\n",
       "\n",
       "    .dataframe tbody tr th {\n",
       "        vertical-align: top;\n",
       "    }\n",
       "\n",
       "    .dataframe thead th {\n",
       "        text-align: right;\n",
       "    }\n",
       "</style>\n",
       "<table border=\"1\" class=\"dataframe\">\n",
       "  <thead>\n",
       "    <tr style=\"text-align: right;\">\n",
       "      <th></th>\n",
       "      <th>Lithology Code</th>\n",
       "      <th>Well Spacing</th>\n",
       "      <th>Net Pay Pay</th>\n",
       "      <th>Gross Pay</th>\n",
       "      <th>Porosity</th>\n",
       "      <th>Swi</th>\n",
       "      <th>Oil FVFi</th>\n",
       "      <th>Temp</th>\n",
       "      <th>Permeability</th>\n",
       "      <th>API Gravity</th>\n",
       "      <th>...</th>\n",
       "      <th>Fractured Faulted</th>\n",
       "      <th>Shale Breaks</th>\n",
       "      <th>Major Gas Cap</th>\n",
       "      <th>Geologic Play</th>\n",
       "      <th>Deposition System</th>\n",
       "      <th>Diagenetic Overprint</th>\n",
       "      <th>Structural Comp</th>\n",
       "      <th>Heterogeniety</th>\n",
       "      <th>Trap Type</th>\n",
       "      <th>URF</th>\n",
       "    </tr>\n",
       "  </thead>\n",
       "  <tbody>\n",
       "    <tr>\n",
       "      <th>0</th>\n",
       "      <td>1</td>\n",
       "      <td>120.0</td>\n",
       "      <td>320.0</td>\n",
       "      <td>600.0</td>\n",
       "      <td>14.0</td>\n",
       "      <td>40.0000</td>\n",
       "      <td>1.586</td>\n",
       "      <td>153</td>\n",
       "      <td>10.0</td>\n",
       "      <td>41.0</td>\n",
       "      <td>...</td>\n",
       "      <td>0</td>\n",
       "      <td>0</td>\n",
       "      <td>0</td>\n",
       "      <td>303</td>\n",
       "      <td>132</td>\n",
       "      <td>1</td>\n",
       "      <td>10</td>\n",
       "      <td>1</td>\n",
       "      <td>2</td>\n",
       "      <td>0.352836</td>\n",
       "    </tr>\n",
       "    <tr>\n",
       "      <th>1</th>\n",
       "      <td>1</td>\n",
       "      <td>160.0</td>\n",
       "      <td>100.0</td>\n",
       "      <td>160.0</td>\n",
       "      <td>18.1</td>\n",
       "      <td>35.0000</td>\n",
       "      <td>1.230</td>\n",
       "      <td>163</td>\n",
       "      <td>65.0</td>\n",
       "      <td>35.6</td>\n",
       "      <td>...</td>\n",
       "      <td>0</td>\n",
       "      <td>0</td>\n",
       "      <td>0</td>\n",
       "      <td>303</td>\n",
       "      <td>132</td>\n",
       "      <td>1</td>\n",
       "      <td>10</td>\n",
       "      <td>1</td>\n",
       "      <td>2</td>\n",
       "      <td>0.321570</td>\n",
       "    </tr>\n",
       "    <tr>\n",
       "      <th>2</th>\n",
       "      <td>1</td>\n",
       "      <td>160.0</td>\n",
       "      <td>100.0</td>\n",
       "      <td>300.0</td>\n",
       "      <td>15.7</td>\n",
       "      <td>51.6333</td>\n",
       "      <td>1.190</td>\n",
       "      <td>185</td>\n",
       "      <td>102.0</td>\n",
       "      <td>32.9</td>\n",
       "      <td>...</td>\n",
       "      <td>0</td>\n",
       "      <td>1</td>\n",
       "      <td>0</td>\n",
       "      <td>303</td>\n",
       "      <td>132</td>\n",
       "      <td>1</td>\n",
       "      <td>10</td>\n",
       "      <td>1</td>\n",
       "      <td>2</td>\n",
       "      <td>0.277514</td>\n",
       "    </tr>\n",
       "    <tr>\n",
       "      <th>3</th>\n",
       "      <td>1</td>\n",
       "      <td>80.0</td>\n",
       "      <td>350.0</td>\n",
       "      <td>1400.0</td>\n",
       "      <td>13.0</td>\n",
       "      <td>30.0000</td>\n",
       "      <td>1.230</td>\n",
       "      <td>153</td>\n",
       "      <td>3.0</td>\n",
       "      <td>35.0</td>\n",
       "      <td>...</td>\n",
       "      <td>1</td>\n",
       "      <td>1</td>\n",
       "      <td>0</td>\n",
       "      <td>303</td>\n",
       "      <td>131</td>\n",
       "      <td>1</td>\n",
       "      <td>10</td>\n",
       "      <td>1</td>\n",
       "      <td>2</td>\n",
       "      <td>0.380000</td>\n",
       "    </tr>\n",
       "    <tr>\n",
       "      <th>4</th>\n",
       "      <td>1</td>\n",
       "      <td>160.0</td>\n",
       "      <td>194.0</td>\n",
       "      <td>550.0</td>\n",
       "      <td>23.0</td>\n",
       "      <td>35.0000</td>\n",
       "      <td>1.380</td>\n",
       "      <td>200</td>\n",
       "      <td>450.0</td>\n",
       "      <td>27.0</td>\n",
       "      <td>...</td>\n",
       "      <td>1</td>\n",
       "      <td>1</td>\n",
       "      <td>1</td>\n",
       "      <td>302</td>\n",
       "      <td>131</td>\n",
       "      <td>7</td>\n",
       "      <td>10</td>\n",
       "      <td>1</td>\n",
       "      <td>3</td>\n",
       "      <td>0.425909</td>\n",
       "    </tr>\n",
       "  </tbody>\n",
       "</table>\n",
       "<p>5 rows × 24 columns</p>\n",
       "</div>"
      ],
      "text/plain": [
       "   Lithology Code  Well Spacing  Net Pay Pay  Gross Pay  Porosity      Swi  \\\n",
       "0               1         120.0        320.0      600.0      14.0  40.0000   \n",
       "1               1         160.0        100.0      160.0      18.1  35.0000   \n",
       "2               1         160.0        100.0      300.0      15.7  51.6333   \n",
       "3               1          80.0        350.0     1400.0      13.0  30.0000   \n",
       "4               1         160.0        194.0      550.0      23.0  35.0000   \n",
       "\n",
       "   Oil FVFi  Temp  Permeability  API Gravity  ...  Fractured Faulted  \\\n",
       "0     1.586   153          10.0         41.0  ...                  0   \n",
       "1     1.230   163          65.0         35.6  ...                  0   \n",
       "2     1.190   185         102.0         32.9  ...                  0   \n",
       "3     1.230   153           3.0         35.0  ...                  1   \n",
       "4     1.380   200         450.0         27.0  ...                  1   \n",
       "\n",
       "   Shale Breaks  Major Gas Cap  Geologic Play  Deposition System  \\\n",
       "0             0              0            303                132   \n",
       "1             0              0            303                132   \n",
       "2             1              0            303                132   \n",
       "3             1              0            303                131   \n",
       "4             1              1            302                131   \n",
       "\n",
       "   Diagenetic Overprint  Structural Comp  Heterogeniety  Trap Type       URF  \n",
       "0                     1               10              1          2  0.352836  \n",
       "1                     1               10              1          2  0.321570  \n",
       "2                     1               10              1          2  0.277514  \n",
       "3                     1               10              1          2  0.380000  \n",
       "4                     7               10              1          3  0.425909  \n",
       "\n",
       "[5 rows x 24 columns]"
      ]
     },
     "execution_count": 3,
     "metadata": {},
     "output_type": "execute_result"
    }
   ],
   "source": [
    "skiprows = 0\n",
    "#Means read in the ',' as thousand seperator. Also drops all columns which are unnamed.\n",
    "df = pd.read_excel(\"dfssoil.xlsx\", thousands=',', skiprows = skiprows)\n",
    "df = df.loc[:, ~df.columns.str.contains('^Unnamed')] \n",
    "df.head()"
   ]
  },
  {
   "cell_type": "code",
   "execution_count": 4,
   "id": "9222fa33",
   "metadata": {},
   "outputs": [
    {
     "name": "stdout",
     "output_type": "stream",
     "text": [
      "['Lithology Code' 'Well Spacing' 'Net Pay Pay' 'Gross Pay' 'Porosity'\n",
      " 'Swi' 'Oil FVFi' 'Temp' 'Permeability' 'API Gravity' 'Viscosity' 'OOIP'\n",
      " 'Initial GOR' 'Pressure Initial' 'Fractured Faulted' 'Shale Breaks'\n",
      " 'Major Gas Cap' 'Geologic Play' 'Deposition System'\n",
      " 'Diagenetic Overprint' 'Structural Comp' 'Heterogeniety' 'Trap Type'\n",
      " 'URF']\n"
     ]
    }
   ],
   "source": [
    "print(df.columns.values)"
   ]
  },
  {
   "cell_type": "markdown",
   "id": "f94c2c0d",
   "metadata": {},
   "source": [
    "### Feature Selection"
   ]
  },
  {
   "cell_type": "code",
   "execution_count": 5,
   "id": "961f18a0",
   "metadata": {},
   "outputs": [
    {
     "name": "stdout",
     "output_type": "stream",
     "text": [
      "   Lithology Code  Well Spacing  Net Pay Pay  Gross Pay  Porosity      Swi  \\\n",
      "0               1         120.0        320.0      600.0      14.0  40.0000   \n",
      "1               1         160.0        100.0      160.0      18.1  35.0000   \n",
      "2               1         160.0        100.0      300.0      15.7  51.6333   \n",
      "3               1          80.0        350.0     1400.0      13.0  30.0000   \n",
      "4               1         160.0        194.0      550.0      23.0  35.0000   \n",
      "\n",
      "   Oil FVFi  Temp  Permeability  API Gravity  ...  Pressure Initial  \\\n",
      "0     1.586   153          10.0         41.0  ...            4251.0   \n",
      "1     1.230   163          65.0         35.6  ...            4009.0   \n",
      "2     1.190   185         102.0         32.9  ...            4457.0   \n",
      "3     1.230   153           3.0         35.0  ...            3900.0   \n",
      "4     1.380   200         450.0         27.0  ...            4300.0   \n",
      "\n",
      "   Fractured Faulted  Shale Breaks  Major Gas Cap  Geologic Play  \\\n",
      "0                  0             0              0            303   \n",
      "1                  0             0              0            303   \n",
      "2                  0             1              0            303   \n",
      "3                  1             1              0            303   \n",
      "4                  1             1              1            302   \n",
      "\n",
      "   Deposition System  Diagenetic Overprint  Structural Comp  Heterogeniety  \\\n",
      "0                132                     1               10              1   \n",
      "1                132                     1               10              1   \n",
      "2                132                     1               10              1   \n",
      "3                131                     1               10              1   \n",
      "4                131                     7               10              1   \n",
      "\n",
      "   Trap Type  \n",
      "0          2  \n",
      "1          2  \n",
      "2          2  \n",
      "3          2  \n",
      "4          3  \n",
      "\n",
      "[5 rows x 23 columns]\n",
      "[0.352836   0.32157    0.27751406 0.38       0.425909  ]\n",
      "(317, 23) (317,)\n"
     ]
    }
   ],
   "source": [
    "#Create a copy\n",
    "df_train_test_set=df.copy()\n",
    "\n",
    "Feature = df_train_test_set[[\n",
    "    'Lithology Code', \n",
    "    'Well Spacing',\n",
    "    'Net Pay Pay',\n",
    "    'Gross Pay',\n",
    "    'Porosity', \n",
    "    'Swi',\n",
    "    'Oil FVFi',\n",
    "    'Temp',\n",
    "    'Permeability', \n",
    "    'API Gravity', \n",
    "    'Viscosity',\n",
    "    'OOIP',\n",
    "    'Initial GOR',\n",
    "    'Pressure Initial',\n",
    "    'Fractured Faulted',\n",
    "    'Shale Breaks',\n",
    "    'Major Gas Cap',\n",
    "    'Geologic Play',\n",
    "    'Deposition System',\n",
    "    'Diagenetic Overprint',\n",
    "    'Structural Comp',\n",
    "    'Heterogeniety',\n",
    "    'Trap Type'\n",
    "]]\n",
    "x=Feature\n",
    "\n",
    "y = df_train_test_set['URF'].values\n",
    "\n",
    "print(x.head())\n",
    "print(y[0:5])\n",
    "print(x.shape, y.shape)"
   ]
  },
  {
   "cell_type": "markdown",
   "id": "575d91c3",
   "metadata": {},
   "source": [
    "### Train-Test Split 70-30"
   ]
  },
  {
   "cell_type": "code",
   "execution_count": 6,
   "id": "b094c1e4",
   "metadata": {},
   "outputs": [
    {
     "name": "stdout",
     "output_type": "stream",
     "text": [
      "Train Set:  (221, 23) (221,)\n",
      "180      15.0\n",
      "303      46.0\n",
      "266       5.0\n",
      "157       3.0\n",
      "66     1000.0\n",
      "Name: Permeability, dtype: float64\n",
      "Test Set:  (96, 23) (96,)\n",
      "73      50.0\n",
      "280     38.0\n",
      "25      70.0\n",
      "255      5.0\n",
      "9      400.0\n",
      "Name: Permeability, dtype: float64\n"
     ]
    }
   ],
   "source": [
    "from sklearn.model_selection import train_test_split\n",
    "\n",
    "random_state = 42\n",
    "test_size = 0.3\n",
    "\n",
    "x_train, x_test, y_train, y_test  = train_test_split(\n",
    "            x, y, test_size = test_size, random_state = random_state\n",
    ")\n",
    "\n",
    "print('Train Set: ', x_train.shape, y_train.shape)\n",
    "print(x_train['Permeability'][0:5])\n",
    "print('Test Set: ', x_test.shape, y_test.shape)\n",
    "print(x_test['Permeability'][0:5])"
   ]
  },
  {
   "cell_type": "markdown",
   "id": "22e34227",
   "metadata": {},
   "source": [
    "### Normalization as per Pycaret z-score"
   ]
  },
  {
   "cell_type": "code",
   "execution_count": 7,
   "id": "346ad533",
   "metadata": {},
   "outputs": [
    {
     "name": "stdout",
     "output_type": "stream",
     "text": [
      "Standardization X Training Set:  [[-7.12836926e-01 -4.93495232e-01 -6.22497137e-01 -3.73078637e-01\n",
      "  -1.02154633e+00  2.07406413e+00 -2.33349946e-01 -8.84660361e-01\n",
      "  -2.31496028e-01  6.56055401e-01 -7.40229581e-02 -1.98355456e-01\n",
      "  -3.32463525e-01 -7.61729773e-01 -7.38548946e-01 -1.27708746e+00\n",
      "  -4.98585570e-01 -5.54445821e-01 -9.23021962e-01 -6.09101686e-01\n",
      "   2.81501824e+00 -6.71477276e-01 -4.10992682e-01]\n",
      " [-7.12836926e-01  7.02447893e-01 -6.27744681e-01 -6.53129649e-01\n",
      "  -5.12532727e-01 -2.63073147e-01 -1.10331477e+00 -1.67543575e-01\n",
      "  -2.15112018e-01  4.98652572e-01 -7.41421078e-02 -1.81534412e-01\n",
      "  -9.12356315e-01  1.81604030e-01 -7.38548946e-01 -1.27708746e+00\n",
      "  -4.98585570e-01  3.32071741e-01 -1.45396380e+00 -6.09101686e-01\n",
      "  -4.54851202e-01 -6.71477276e-01  1.12848838e+00]\n",
      " [ 2.86754854e+00 -3.56816018e-01  3.89529241e-01 -2.17494741e-01\n",
      "  -7.84795819e-01 -1.58406378e+00  3.29568472e-01 -7.65140897e-01\n",
      "  -2.36781193e-01  9.39024380e-02 -7.42329595e-02 -1.13603274e-01\n",
      "   1.67763505e-01 -2.76013219e-01 -7.38548946e-01  7.83031727e-01\n",
      "   2.00567377e+00 -8.25082371e-01  1.17419829e+00  3.62822304e-01\n",
      "  -4.54851202e-01  8.58383322e-01  1.12848838e+00]\n",
      " [ 1.07735581e+00  7.02447893e-01 -4.80063795e-01  3.22713384e-04\n",
      "  -3.11294789e-01 -5.98438184e-02  7.36964642e-02  1.50572893e+00\n",
      "  -2.37838226e-01  9.39024380e-02 -7.42165764e-02 -4.89069521e-02\n",
      "  -4.96925615e-01  1.16507970e+00 -7.38548946e-01 -1.27708746e+00\n",
      "  -4.98585570e-01  1.60040627e+00  8.82180282e-01  3.62822304e-01\n",
      "  -4.54851202e-01  8.58383322e-01  1.12848838e+00]\n",
      " [-7.12836926e-01 -5.96004643e-01 -3.22637469e-01  9.36730509e-02\n",
      "   1.22758356e+00  2.27729346e+00 -1.00096597e+00 -6.45621433e-01\n",
      "   2.89092675e-01 -1.92984823e+00 -5.94271105e-02 -2.13882573e-01\n",
      "  -1.03236963e+00 -1.40399960e+00  1.35400640e+00 -1.27708746e+00\n",
      "   2.00567377e+00 -2.91123773e-01 -1.53156299e-01 -6.09101686e-01\n",
      "  -4.54851202e-01 -6.71477276e-01 -4.10992682e-01]]\n",
      "Standardization X Testing Set:  [[-0.61847223 -0.18069518  0.66381547  0.34731452 -0.94120199  0.34495916\n",
      "   3.14247988  1.4314872  -0.41690232 -0.3106324  -0.19126635 -0.36980246\n",
      "   2.26978895  1.8994877  -0.77459667 -1.18321596 -0.08928648 -0.23328995\n",
      "   0.03454209 -0.56253004  2.15395568  2.56601161 -0.19726427]\n",
      " [ 1.18071972  1.50123861 -0.25108247 -0.29723989 -0.8490273  -0.63771382\n",
      "   0.51297236 -0.18550836 -0.43190026  1.03163514 -0.19125675 -0.21672092\n",
      "   0.36664638 -0.0449162  -0.77459667 -1.18321596 -0.10570699 -0.11045582\n",
      "   1.94867956  0.70316255 -0.4067842  -0.59215653 -1.65398506]\n",
      " [-0.61847223 -0.8758051   0.58285105  0.02287438  0.09576326  0.54149375\n",
      "   0.31339315  0.99446138 -0.39190576 -0.20996233 -0.19125911 -0.31518302\n",
      "   0.10406657  0.26757728  1.29099445  0.84515425 -0.10570699 -0.23605026\n",
      "   0.03454209 -0.56253004 -0.4067842  -0.59215653 -0.19726427]\n",
      " [-0.61847223  0.23185462 -0.30775757 -0.19341905 -0.48032854  1.03283024\n",
      "   0.31339315 -0.6006829  -0.47314458  0.69606825 -0.19126635 -0.12291704\n",
      "   0.79424526  0.16341279  1.29099445  0.84515425 -0.10570699 -0.76879152\n",
      "   0.00758241  2.39075268  0.87358574 -0.59215653 -1.65398506]\n",
      " [-0.61847223 -0.40283738 -0.2956129  -0.5403537   0.11880693 -0.93251571\n",
      "   1.65077961  1.27852816  0.02053749  0.24864574 -0.19021045  0.04763547\n",
      "   3.35826083  0.87173135 -0.77459667  0.84515425 -0.08928648  2.5077052\n",
      "  -0.77424838 -0.56253004 -0.4067842  -0.59215653 -0.19726427]]\n"
     ]
    }
   ],
   "source": [
    "#https://towardsdatascience.com/data-normalization-with-pandas-and-scikit-learn-7c1cc6ed6475\n",
    "\n",
    "from sklearn.preprocessing import StandardScaler\n",
    "\n",
    "X_train = preprocessing.StandardScaler().fit(x_train).transform(x_train)\n",
    "X_test = preprocessing.StandardScaler().fit(x_test).transform(x_test)\n",
    "print('Standardization X Training Set: ', X_train[0:5])\n",
    "print('Standardization X Testing Set: ', X_test[0:5])"
   ]
  },
  {
   "cell_type": "markdown",
   "id": "306d214a",
   "metadata": {},
   "source": [
    "### Transformation as per Pycaret 'yeo johnson'"
   ]
  },
  {
   "cell_type": "code",
   "execution_count": 8,
   "id": "aa9943f0",
   "metadata": {},
   "outputs": [
    {
     "name": "stdout",
     "output_type": "stream",
     "text": [
      "Transformed X Training Set:  [[-0.75076427 -0.87450604 -0.90962598 -0.1790188  -1.08045863  1.91349648\n",
      "   0.00695917 -0.92921569 -0.77145029  0.61339858 -0.2915843  -0.76966279\n",
      "  -0.12569466 -0.78815655 -0.73854895 -1.27708746 -0.49858557 -0.47876547\n",
      "  -0.92368273 -0.76428771  2.00654947 -0.72737615 -0.4635568 ]\n",
      " [-0.75076427  1.39080303 -0.92754821 -0.91909413 -0.42776691 -0.20492642\n",
      "  -1.57879401 -0.0073757  -0.5679578   0.42521714 -0.31468057 -0.51201143\n",
      "  -1.19535806  0.4332552  -0.73854895 -1.27708746 -0.49858557  0.7986259\n",
      "  -1.54132826 -0.76428771 -0.51930784 -0.72737615  1.16202125]\n",
      " [ 1.72745085 -0.34438564  1.0175186   0.14658789 -0.76753375 -1.70436326\n",
      "   0.64281733 -0.76103323 -0.84020611 -0.02641739 -0.33236034  0.32513666\n",
      "   0.50790625 -0.08148827 -0.73854895  0.78303173  2.00567377 -1.13360926\n",
      "   1.15401759  1.06097169 -0.51930784  1.25716836  1.16202125]\n",
      " [ 1.27830771  1.39080303 -0.4601371   0.50796716 -0.19169844  0.00553924\n",
      "   0.38895004  1.39878574 -0.85414434 -0.02641739 -0.32916777  0.87919688\n",
      "  -0.39269584  1.19401936 -0.73854895 -1.27708746 -0.49858557  1.48943505\n",
      "   0.89771028  1.06097169 -0.51930784  1.25716836  1.16202125]\n",
      " [-0.75076427 -1.34172058 -0.04246389  0.63188524  1.19664539  2.07830218\n",
      "  -1.35464591 -0.59837557  1.73505482 -1.71405065  1.88480831 -1.02795438\n",
      "  -1.46112905 -1.95276358  1.3540064  -1.27708746  2.00567377  0.03200968\n",
      "  -0.08701259 -0.76428771 -0.51930784 -0.72737615 -0.4635568 ]]\n",
      "Transformed X Testing Set:  [[-6.57193189e-01  1.07747436e-01  1.74791292e+00  1.22987368e+00\n",
      "  -9.81533468e-01  5.08767293e-01  2.10394800e+00  1.34163899e+00\n",
      "  -5.52768312e-01 -6.15743155e-01 -3.70863580e-01 -1.21184726e+00\n",
      "   1.80726602e+00  1.61346519e+00 -7.74596669e-01 -1.18321596e+00\n",
      "   1.44186100e+00  1.73085652e-01  1.23076436e-01 -6.94932435e-01\n",
      "   2.25511761e+00  1.72562387e+00 -2.25522489e-01]\n",
      " [ 1.48455507e+00  1.48439017e+00 -3.05246869e-01  7.27582021e-02\n",
      "  -8.60633361e-01 -6.07209696e-01  8.01035209e-01 -3.57863305e-04\n",
      "  -6.39705250e-01  1.32219561e+00 -3.70542216e-01 -1.08391817e-01\n",
      "   7.66458078e-01  2.05162399e-01 -7.74596669e-01 -1.18321596e+00\n",
      "  -4.23926588e-01  3.79680444e-01  1.77259789e+00  1.41372506e+00\n",
      "  -4.47173349e-01 -6.40608018e-01 -1.61241374e+00]\n",
      " [-6.57193189e-01 -1.25774659e+00  1.69564130e+00  8.37445667e-01\n",
      "   2.31778688e-01  6.83273861e-01  6.29795417e-01  1.04891053e+00\n",
      "  -4.13766606e-01 -5.24285866e-01 -3.70621025e-01 -7.69249769e-01\n",
      "   4.97407553e-01  5.24412155e-01  1.29099445e+00  8.45154255e-01\n",
      "  -4.23926588e-01  1.68062797e-01  1.23076436e-01 -6.94932435e-01\n",
      "  -4.47173349e-01 -6.40608018e-01 -2.25522489e-01]\n",
      " [-6.57193189e-01  6.17708596e-01 -6.82148980e-01  3.76358893e-01\n",
      "  -4.00493181e-01  1.07651482e+00  6.29795417e-01 -5.25902754e-01\n",
      "  -8.92969149e-01  6.86330896e-01 -3.70863580e-01  3.79429793e-01\n",
      "   1.10129823e+00  4.25059717e-01  1.29099445e+00  8.45154255e-01\n",
      "  -4.23926588e-01 -1.14239747e+00  9.60150302e-02  1.76254689e+00\n",
      "   2.18740957e+00 -6.40608018e-01 -1.61241374e+00]\n",
      " [-6.57193189e-01 -2.57911981e-01 -5.96858251e-01 -8.93205606e-01\n",
      "   2.54585041e-01 -1.02463920e+00  1.50784723e+00  1.24286530e+00\n",
      "   1.02044016e+00 -5.42964089e-03 -3.35674512e-01  9.85490892e-01\n",
      "   2.13020204e+00  1.00668127e+00 -7.74596669e-01  8.45154255e-01\n",
      "   1.44186100e+00  1.76025610e+00 -7.56684837e-01 -6.94932435e-01\n",
      "  -4.47173349e-01 -6.40608018e-01 -2.25522489e-01]]\n"
     ]
    }
   ],
   "source": [
    "from sklearn.preprocessing import PowerTransformer\n",
    "\n",
    "Xt_train = preprocessing.PowerTransformer(method='yeo-johnson', standardize=True).fit(X_train).transform(X_train)\n",
    "Xt_test = preprocessing.PowerTransformer(method='yeo-johnson', standardize=True).fit(X_test).transform(X_test)\n",
    "print('Transformed X Training Set: ', Xt_train[0:5])\n",
    "print('Transformed X Testing Set: ', Xt_test[0:5])"
   ]
  },
  {
   "cell_type": "markdown",
   "id": "edbbb47d",
   "metadata": {},
   "source": [
    "## Note that Ignore Low Variance and Remove Outliers is not implemented as it is assumed it will not make a significant difference to model"
   ]
  },
  {
   "cell_type": "code",
   "execution_count": 9,
   "id": "33cdbad7",
   "metadata": {},
   "outputs": [],
   "source": [
    "from sklearn.model_selection import cross_val_score, GridSearchCV, cross_val_predict\n",
    "from sklearn.ensemble import RandomForestRegressor"
   ]
  },
  {
   "cell_type": "markdown",
   "id": "5f956955",
   "metadata": {},
   "source": [
    "#### K-fold and grid search CV on 2 variables only"
   ]
  },
  {
   "cell_type": "code",
   "execution_count": 10,
   "id": "6ff5ab07",
   "metadata": {},
   "outputs": [],
   "source": [
    "# Create a Random Forest Regressor\n",
    "# win_rf=RandomForestRegressor(n_estimators=100, criterion=\"mse\", max_depth=None, min_samples_split=2)\n",
    "# win_rf.fit(Xt_train, y_train)\n",
    "# yhat_rf = win_rf.predict(Xt_test)\n",
    "\n",
    "def rfr_model(X, y, Xt):\n",
    "# Perform Grid-Search\n",
    "# bootstrap=True, ccp_alpha=0.0, criterion='mse',\n",
    "# max_depth=None, max_features='auto', max_leaf_nodes=None,\n",
    "# max_samples=None, min_impurity_decrease=0.0,\n",
    "# min_impurity_split=None, min_samples_leaf=1,\n",
    "# min_samples_split=2, min_weight_fraction_leaf=0.0,\n",
    "# n_estimators=100, n_jobs=-1, oob_score=False,\n",
    "# random_state=42, verbose=0, warm_start=False\n",
    "\n",
    "    # Create Base Model\n",
    "    rfr = RandomForestRegressor(\n",
    "        bootstrap=True, ccp_alpha=0.0, criterion='mse',\n",
    "        max_depth=None,\n",
    "        max_features='auto', max_leaf_nodes=None,\n",
    "        max_samples=None, min_impurity_decrease=0.0,\n",
    "        min_impurity_split=None, min_samples_leaf=1,\n",
    "        min_samples_split=2, min_weight_fraction_leaf=0.0,\n",
    "        n_estimators=100, \n",
    "        n_jobs=-1, oob_score=False,\n",
    "        random_state=42, verbose=0, warm_start=False\n",
    "    )\n",
    "    \n",
    "    rfr.fit(X, y)\n",
    "    predictions1 = rfr.predict(Xt)\n",
    "\n",
    "    # Do Grid search\n",
    "    gsc = GridSearchCV(\n",
    "        estimator=rfr,\n",
    "        param_grid={\n",
    "            'max_depth': range(3,7),\n",
    "            'n_estimators': (10, 50, 100, 1000),\n",
    "        },\n",
    "        cv=10, scoring='neg_mean_squared_error', verbose=0, n_jobs=-1)\n",
    "    \n",
    "    grid_result = gsc.fit(X, y)\n",
    "    best_params = grid_result.best_params_\n",
    "    \n",
    "    # Create K-fold Grid Model\n",
    "    rfr2 = RandomForestRegressor(\n",
    "        bootstrap=True, ccp_alpha=0.0, criterion='mse',\n",
    "        max_depth=best_params[\"max_depth\"],\n",
    "        max_features='auto', max_leaf_nodes=None,\n",
    "        max_samples=None, min_impurity_decrease=0.0,\n",
    "        min_impurity_split=None, min_samples_leaf=1,\n",
    "        min_samples_split=2, min_weight_fraction_leaf=0.0,\n",
    "        n_estimators=best_params[\"n_estimators\"], \n",
    "        n_jobs=-1, oob_score=False,\n",
    "        random_state=42, verbose=0, warm_start=False\n",
    "    )    \n",
    "  \n",
    "    rfr2.fit(X, y)\n",
    "    # Perform K-Fold CV\n",
    "    scores = cross_val_score(rfr2, X, y, cv=10, scoring='neg_mean_absolute_error')\n",
    "        \n",
    "    # Predict\n",
    "    #predictions = cross_val_predict(rfr, X, y, cv=10)\n",
    "    predictions2 = rfr2.predict(Xt)\n",
    "    \n",
    "    return scores, predictions1, predictions2, rfr, rfr2"
   ]
  },
  {
   "cell_type": "code",
   "execution_count": 11,
   "id": "2a9663e6",
   "metadata": {},
   "outputs": [
    {
     "name": "stdout",
     "output_type": "stream",
     "text": [
      "MAE Score [-0.08956269 -0.07468653 -0.06417149 -0.09426012 -0.08360356 -0.07919998\n",
      " -0.08870773 -0.07566295 -0.05763505 -0.06716025]\n",
      "Mean Absolute Error: 0.09 V/V\n",
      "Accuracy: 52.16 %.\n",
      "Mean Absolute Error: 0.09 V/V\n",
      "Accuracy: 52.73 %.\n"
     ]
    }
   ],
   "source": [
    "win_rf_grid, yhat_rf, yhat_rf_grid, rfr, rfr_grid = rfr_model(Xt_train, y_train, Xt_test)\n",
    "print(\"MAE Score\", win_rf_grid)\n",
    "\n",
    "errors1 = abs(yhat_rf - y_test)\n",
    "# Display the performance metrics\n",
    "print('Mean Absolute Error:', round(np.mean(errors1), 2), 'V/V')\n",
    "mape1 = np.mean(100 * (errors1 / y_test))\n",
    "accuracy1 = 100 - mape1\n",
    "print('Accuracy:', round(accuracy1, 2), '%.')\n",
    "\n",
    "errors2 = abs(yhat_rf_grid - y_test)\n",
    "# Display the performance metrics\n",
    "print('Mean Absolute Error:', round(np.mean(errors2), 2), 'V/V')\n",
    "mape2 = np.mean(100 * (errors2 / y_test))\n",
    "accuracy2 = 100 - mape2\n",
    "print('Accuracy:', round(accuracy2, 2), '%.')"
   ]
  },
  {
   "cell_type": "code",
   "execution_count": 12,
   "id": "b1c887f0",
   "metadata": {},
   "outputs": [
    {
     "data": {
      "text/plain": [
       "Text(0, 0.5, 'Evaluated Recovery Factor (%)')"
      ]
     },
     "execution_count": 12,
     "metadata": {},
     "output_type": "execute_result"
    },
    {
     "data": {
      "image/png": "[encoded data removed]",
      "text/plain": [
       "<Figure size 1008x576 with 1 Axes>"
      ]
     },
     "metadata": {
      "needs_background": "light"
     },
     "output_type": "display_data"
    }
   ],
   "source": [
    "a = y_test\n",
    "b = yhat_rf_grid\n",
    "c = yhat_rf\n",
    "\n",
    "plt.figure(figsize=(14, 8))\n",
    "plt.scatter(a, b, color='blue')\n",
    "plt.scatter(a, c, color='green')\n",
    "plt.plot(a, a, color = 'red', label = 'x=y')\n",
    "plt.xlabel(\"Recovery Factor (%)\", size=14)\n",
    "plt.ylabel(\"Evaluated Recovery Factor (%)\", size=14)"
   ]
  },
  {
   "cell_type": "code",
   "execution_count": 13,
   "id": "80d25f45",
   "metadata": {},
   "outputs": [
    {
     "data": {
      "text/html": [
       "<div>\n",
       "<style scoped>\n",
       "    .dataframe tbody tr th:only-of-type {\n",
       "        vertical-align: middle;\n",
       "    }\n",
       "\n",
       "    .dataframe tbody tr th {\n",
       "        vertical-align: top;\n",
       "    }\n",
       "\n",
       "    .dataframe thead th {\n",
       "        text-align: right;\n",
       "    }\n",
       "</style>\n",
       "<table border=\"1\" class=\"dataframe\">\n",
       "  <thead>\n",
       "    <tr style=\"text-align: right;\">\n",
       "      <th></th>\n",
       "      <th>Lithology Code</th>\n",
       "      <th>Well Spacing</th>\n",
       "      <th>Net Pay Pay</th>\n",
       "      <th>Gross Pay</th>\n",
       "      <th>Porosity</th>\n",
       "      <th>Swi</th>\n",
       "      <th>Oil FVFi</th>\n",
       "      <th>Temp</th>\n",
       "      <th>Permeability</th>\n",
       "      <th>API Gravity</th>\n",
       "      <th>...</th>\n",
       "      <th>Fractured Faulted</th>\n",
       "      <th>Shale Breaks</th>\n",
       "      <th>Major Gas Cap</th>\n",
       "      <th>Geologic Play</th>\n",
       "      <th>Deposition System</th>\n",
       "      <th>Diagenetic Overprint</th>\n",
       "      <th>Structural Comp</th>\n",
       "      <th>Heterogeniety</th>\n",
       "      <th>Trap Type</th>\n",
       "      <th>URF</th>\n",
       "    </tr>\n",
       "  </thead>\n",
       "  <tbody>\n",
       "    <tr>\n",
       "      <th>0</th>\n",
       "      <td>1</td>\n",
       "      <td>95.05</td>\n",
       "      <td>28.7</td>\n",
       "      <td>98.4</td>\n",
       "      <td>17.55</td>\n",
       "      <td>42.85</td>\n",
       "      <td>1.19</td>\n",
       "      <td>139</td>\n",
       "      <td>100.0</td>\n",
       "      <td>39.65</td>\n",
       "      <td>...</td>\n",
       "      <td>1</td>\n",
       "      <td>1</td>\n",
       "      <td>0</td>\n",
       "      <td>39</td>\n",
       "      <td>132</td>\n",
       "      <td>1</td>\n",
       "      <td>30</td>\n",
       "      <td>2</td>\n",
       "      <td>2</td>\n",
       "      <td>0.310</td>\n",
       "    </tr>\n",
       "    <tr>\n",
       "      <th>1</th>\n",
       "      <td>1</td>\n",
       "      <td>160.54</td>\n",
       "      <td>286.0</td>\n",
       "      <td>323.0</td>\n",
       "      <td>23.00</td>\n",
       "      <td>28.00</td>\n",
       "      <td>1.40</td>\n",
       "      <td>201</td>\n",
       "      <td>76.0</td>\n",
       "      <td>33.00</td>\n",
       "      <td>...</td>\n",
       "      <td>1</td>\n",
       "      <td>1</td>\n",
       "      <td>0</td>\n",
       "      <td>427</td>\n",
       "      <td>181</td>\n",
       "      <td>1</td>\n",
       "      <td>30</td>\n",
       "      <td>3</td>\n",
       "      <td>3</td>\n",
       "      <td>0.280</td>\n",
       "    </tr>\n",
       "    <tr>\n",
       "      <th>2</th>\n",
       "      <td>1</td>\n",
       "      <td>131.14</td>\n",
       "      <td>19.0</td>\n",
       "      <td>22.0</td>\n",
       "      <td>23.00</td>\n",
       "      <td>35.00</td>\n",
       "      <td>1.04</td>\n",
       "      <td>245</td>\n",
       "      <td>400.0</td>\n",
       "      <td>21.00</td>\n",
       "      <td>...</td>\n",
       "      <td>0</td>\n",
       "      <td>1</td>\n",
       "      <td>0</td>\n",
       "      <td>419</td>\n",
       "      <td>142</td>\n",
       "      <td>1</td>\n",
       "      <td>10</td>\n",
       "      <td>2</td>\n",
       "      <td>1</td>\n",
       "      <td>0.250</td>\n",
       "    </tr>\n",
       "    <tr>\n",
       "      <th>3</th>\n",
       "      <td>1</td>\n",
       "      <td>20.00</td>\n",
       "      <td>8.6</td>\n",
       "      <td>12.0</td>\n",
       "      <td>30.00</td>\n",
       "      <td>32.00</td>\n",
       "      <td>1.10</td>\n",
       "      <td>118</td>\n",
       "      <td>1200.0</td>\n",
       "      <td>17.00</td>\n",
       "      <td>...</td>\n",
       "      <td>1</td>\n",
       "      <td>0</td>\n",
       "      <td>0</td>\n",
       "      <td>2407</td>\n",
       "      <td>151</td>\n",
       "      <td>1</td>\n",
       "      <td>10</td>\n",
       "      <td>1</td>\n",
       "      <td>2</td>\n",
       "      <td>0.274</td>\n",
       "    </tr>\n",
       "    <tr>\n",
       "      <th>4</th>\n",
       "      <td>1</td>\n",
       "      <td>10.00</td>\n",
       "      <td>10.0</td>\n",
       "      <td>60.0</td>\n",
       "      <td>25.00</td>\n",
       "      <td>40.00</td>\n",
       "      <td>1.10</td>\n",
       "      <td>110</td>\n",
       "      <td>1500.0</td>\n",
       "      <td>34.00</td>\n",
       "      <td>...</td>\n",
       "      <td>0</td>\n",
       "      <td>1</td>\n",
       "      <td>0</td>\n",
       "      <td>2407</td>\n",
       "      <td>151</td>\n",
       "      <td>1</td>\n",
       "      <td>10</td>\n",
       "      <td>1</td>\n",
       "      <td>1</td>\n",
       "      <td>0.360</td>\n",
       "    </tr>\n",
       "  </tbody>\n",
       "</table>\n",
       "<p>5 rows × 24 columns</p>\n",
       "</div>"
      ],
      "text/plain": [
       "   Lithology Code  Well Spacing  Net Pay Pay  Gross Pay  Porosity    Swi  \\\n",
       "0               1         95.05         28.7       98.4     17.55  42.85   \n",
       "1               1        160.54        286.0      323.0     23.00  28.00   \n",
       "2               1        131.14         19.0       22.0     23.00  35.00   \n",
       "3               1         20.00          8.6       12.0     30.00  32.00   \n",
       "4               1         10.00         10.0       60.0     25.00  40.00   \n",
       "\n",
       "   Oil FVFi  Temp  Permeability  API Gravity  ...  Fractured Faulted  \\\n",
       "0      1.19   139         100.0        39.65  ...                  1   \n",
       "1      1.40   201          76.0        33.00  ...                  1   \n",
       "2      1.04   245         400.0        21.00  ...                  0   \n",
       "3      1.10   118        1200.0        17.00  ...                  1   \n",
       "4      1.10   110        1500.0        34.00  ...                  0   \n",
       "\n",
       "   Shale Breaks  Major Gas Cap  Geologic Play  Deposition System  \\\n",
       "0             1              0             39                132   \n",
       "1             1              0            427                181   \n",
       "2             1              0            419                142   \n",
       "3             0              0           2407                151   \n",
       "4             1              0           2407                151   \n",
       "\n",
       "   Diagenetic Overprint  Structural Comp  Heterogeniety  Trap Type    URF  \n",
       "0                     1               30              2          2  0.310  \n",
       "1                     1               30              3          3  0.280  \n",
       "2                     1               10              2          1  0.250  \n",
       "3                     1               10              1          2  0.274  \n",
       "4                     1               10              1          1  0.360  \n",
       "\n",
       "[5 rows x 24 columns]"
      ]
     },
     "execution_count": 13,
     "metadata": {},
     "output_type": "execute_result"
    }
   ],
   "source": [
    "dfblind = pd.read_excel(\"BlindTest_SSOIL.xlsx\", thousands=',', skiprows = skiprows)\n",
    "#dfblind = dfblind.loc[:, ~df.columns.str.contains('^Unnamed')] \n",
    "dfblind.head()"
   ]
  },
  {
   "cell_type": "markdown",
   "id": "c4847ba4",
   "metadata": {},
   "source": [
    "### Blind Data Set"
   ]
  },
  {
   "cell_type": "code",
   "execution_count": 14,
   "id": "444a74aa",
   "metadata": {},
   "outputs": [],
   "source": [
    "blind_df = dfblind.copy()\n",
    "blind_df.drop(['URF'], axis=1, inplace=True)"
   ]
  },
  {
   "cell_type": "code",
   "execution_count": 15,
   "id": "11383873",
   "metadata": {},
   "outputs": [],
   "source": [
    "blind_df_norm = preprocessing.StandardScaler().fit(blind_df).transform(blind_df)\n",
    "blind_df_norm_tran = preprocessing.PowerTransformer(method='yeo-johnson', standardize=True).fit(blind_df_norm).transform(blind_df_norm)"
   ]
  },
  {
   "cell_type": "code",
   "execution_count": 16,
   "id": "b9740194",
   "metadata": {},
   "outputs": [
    {
     "name": "stdout",
     "output_type": "stream",
     "text": [
      "0     0.310000\n",
      "1     0.280000\n",
      "2     0.250000\n",
      "3     0.274000\n",
      "4     0.360000\n",
      "        ...   \n",
      "70    0.390000\n",
      "71    0.470000\n",
      "72    0.371956\n",
      "73    0.140187\n",
      "74    0.450000\n",
      "Name: URF, Length: 75, dtype: float64\n"
     ]
    }
   ],
   "source": [
    "print(dfblind['URF'])"
   ]
  },
  {
   "cell_type": "code",
   "execution_count": 17,
   "id": "3feefe61",
   "metadata": {},
   "outputs": [
    {
     "name": "stdout",
     "output_type": "stream",
     "text": [
      "[0.35978573 0.30346062 0.34220124 0.28954745 0.30877535 0.33313721\n",
      " 0.32710527 0.37078001 0.29847193 0.31369887 0.31695986 0.2104578\n",
      " 0.32226912 0.3165825  0.31385586 0.21486743 0.26745987 0.34206453\n",
      " 0.31868087 0.33237774 0.33375444 0.31948003 0.32388164 0.26126646\n",
      " 0.346478   0.33898441 0.29317476 0.32907388 0.37109599 0.34406169\n",
      " 0.38420298 0.2420957  0.34516213 0.35049623 0.36604162 0.36464042\n",
      " 0.3422851  0.24604568 0.23748971 0.2406308  0.2379798  0.32932279\n",
      " 0.28123824 0.25999749 0.31799325 0.22113432 0.29975713 0.33745743\n",
      " 0.30256148 0.19046927 0.3127951  0.31880085 0.33758385 0.29191603\n",
      " 0.2611186  0.31903055 0.3027977  0.28791368 0.27358531 0.31556432\n",
      " 0.30977767 0.28588805 0.29122353 0.27941078 0.34321515 0.34880438\n",
      " 0.34521521 0.36739976 0.36509188 0.29024496 0.33135336 0.33845866\n",
      " 0.36699318 0.3575082  0.39058228]\n",
      "[0.36509167 0.30890812 0.32064012 0.29130317 0.31255913 0.31873377\n",
      " 0.31794787 0.35301323 0.3108126  0.32423637 0.32432386 0.2215271\n",
      " 0.32914538 0.32527543 0.31624284 0.22644119 0.2532039  0.34803601\n",
      " 0.32162224 0.3205899  0.33014688 0.31683137 0.32995544 0.26707674\n",
      " 0.33530112 0.33372435 0.30254931 0.32553455 0.3615029  0.33939289\n",
      " 0.3661473  0.25171883 0.35930544 0.34783813 0.35252115 0.3574148\n",
      " 0.34106939 0.25762953 0.26384271 0.24501876 0.23413456 0.3356594\n",
      " 0.28224154 0.26355378 0.32275769 0.22708888 0.29305584 0.32042617\n",
      " 0.30013496 0.19865102 0.32894445 0.31618143 0.33381993 0.27949592\n",
      " 0.2737382  0.33885276 0.28981858 0.28870216 0.28004046 0.32549854\n",
      " 0.30175858 0.28548773 0.30279002 0.28520084 0.35135963 0.35959151\n",
      " 0.33491687 0.37226089 0.36488334 0.28483068 0.31673418 0.33697196\n",
      " 0.3634436  0.37152681 0.39248839]\n"
     ]
    }
   ],
   "source": [
    "predictions = rfr.predict(blind_df_norm_tran)\n",
    "print(predictions)\n",
    "\n",
    "predictions_grid = rfr_grid.predict(blind_df_norm_tran)\n",
    "print(predictions_grid)"
   ]
  },
  {
   "cell_type": "code",
   "execution_count": 18,
   "id": "3e68ebc1",
   "metadata": {},
   "outputs": [
    {
     "data": {
      "text/plain": [
       "Text(0, 0.5, 'Evaluated Recovery Factor (%)')"
      ]
     },
     "execution_count": 18,
     "metadata": {},
     "output_type": "execute_result"
    },
    {
     "data": {
      "image/png": "[encoded data removed]",
      "text/plain": [
       "<Figure size 1008x576 with 1 Axes>"
      ]
     },
     "metadata": {
      "needs_background": "light"
     },
     "output_type": "display_data"
    }
   ],
   "source": [
    "a = dfblind['URF']\n",
    "b = predictions\n",
    "c = predictions_grid\n",
    "\n",
    "plt.figure(figsize=(14, 8))\n",
    "plt.scatter(a, b, color='blue')\n",
    "plt.scatter(a, c, color='green')\n",
    "plt.plot(a, a, color = 'red', label = 'x=y')\n",
    "plt.xlabel(\"Recovery Factor (%)\", size=14)\n",
    "plt.ylabel(\"Evaluated Recovery Factor (%)\", size=14)"
   ]
  },
  {
   "cell_type": "markdown",
   "id": "063d9bb1",
   "metadata": {},
   "source": [
    "### Neural Network Model\n",
    "In this section, I will cover the following:\n",
    "1. Outline of the model\n",
    "2. Optimizers & loss funtion\n",
    "3. Early stopping and training"
   ]
  },
  {
   "cell_type": "code",
   "execution_count": 19,
   "id": "3f663284",
   "metadata": {},
   "outputs": [],
   "source": [
    "#loss plot to identify optimal model parameters from training\n",
    "\n",
    "fs = 14\n",
    "\n",
    "def loss_plot(history):\n",
    "    \n",
    "    plt.rcParams['figure.figsize'] = [12, 6]\n",
    "    plt.plot(history.history['mse'])\n",
    "    plt.plot(history.history['val_mse'])\n",
    "    plt.title('model accuracy', size = fs)\n",
    "    plt.ylabel('Mean Square Error', size = fs)\n",
    "    plt.xlabel('epoch', size = fs)\n",
    "    plt.legend(['train MSE', 'val MSE'], loc='upper left', fontsize = fs)\n",
    "    plt.show()\n",
    "    \n",
    "    plt.rcParams['figure.figsize'] = [12, 6]\n",
    "    plt.plot(history.history['loss'])\n",
    "    plt.plot(history.history['val_loss'])\n",
    "    plt.title('model loss', size = fs)\n",
    "    plt.ylabel('loss', size = fs)\n",
    "    plt.xlabel('epoch', size = fs)\n",
    "    plt.legend(['train loss', 'val loss'], loc='upper left', fontsize = fs)\n",
    "    plt.show()\n",
    "\n"
   ]
  },
  {
   "cell_type": "code",
   "execution_count": 20,
   "id": "7e6959be",
   "metadata": {},
   "outputs": [],
   "source": [
    "def evaluate_prediction(predictions, actual):\n",
    "    errors = predictions - actual\n",
    "    mse = np.square(errors).mean()\n",
    "    rmse = np.sqrt(mse)\n",
    "    mae = np.abs(errors).mean()\n",
    "    r2 = r2_score(actual, predictions)\n",
    "    print('Mean Square Error: {:.2f}'.format(mse))\n",
    "    print('Mean Absolute Error: {:.2f}'.format(mae))\n",
    "    print('Root Mean Square Error: {:.2f}'.format(rmse))\n",
    "    print('R-Square: {:.2f}'.format(r2))\n",
    "    print('')\n",
    "    print('')\n",
    "    list_df = [mse, rmse, mae, r2]\n",
    "    df = pd.DataFrame(list_df, index=[\"MSE\", \"RMSE\", \"MAE\", \"R^2\"])\n",
    "    \n",
    "    return df"
   ]
  },
  {
   "cell_type": "code",
   "execution_count": 21,
   "id": "eb11ae06",
   "metadata": {},
   "outputs": [],
   "source": [
    "from sklearn.metrics import mean_absolute_error , mean_squared_error, r2_score\n",
    "import tensorflow as tf\n",
    "\n",
    "# Intialize hyperparameters learning rate, epochs and batch size\n",
    "epochs = 30 # Too large a value will overfit\n",
    "batch_size = 10 # mini-batch gradient descent\n",
    "\n",
    "# Learning rate - should be high enough so we dont iterate forever\n",
    "# but also low enough so we dont osciallate about local min\n",
    "# Looking for global min\n",
    "init_lr = 1e-3\n",
    "\n",
    "# Input size is dependent on number of inputs, output size on number of \n",
    "# outputs and hidden layer size is kept constant for every dense layer\n",
    "input_size = 23\n",
    "output_size = 1 \n",
    "hidden_layer_size = 8 # Width of the hidden layer"
   ]
  },
  {
   "cell_type": "markdown",
   "id": "983d9d13",
   "metadata": {},
   "source": [
    "I will start with a model that is 3 layers 'depth'. The 'Hidden layer' is defined as a combination of linear + non-linear function, and is created using tf.keras.layers.Dense. \n",
    "\n",
    "This is basically implementing: output = activation(dot(input, weight) + bias). \n",
    "\n",
    "The function takes several arguments, but the most critical ones are the hidden_layer_size and the activation function"
   ]
  },
  {
   "cell_type": "code",
   "execution_count": 22,
   "id": "2a59f2c5",
   "metadata": {},
   "outputs": [],
   "source": [
    "# Outline the model will look like\n",
    "\n",
    "activation = 'relu'\n",
    "\n",
    "model = tf.keras.Sequential([\n",
    "    tf.keras.layers.Dense(hidden_layer_size, activation=activation), # 1st hidden layer\n",
    "    tf.keras.layers.Dense(hidden_layer_size/2, activation=activation), # 2nd hidden layer\n",
    "    #tf.keras.layers.Dense(hidden_layer_size/4, activation=activation), # 3rd hidden layer\n",
    "    tf.keras.layers.Dropout(rate=0.2, noise_shape=None, seed=42),\n",
    "    # the final layer\n",
    "    tf.keras.layers.Dense(output_size, activation='linear'), # output layer\n",
    "])\n",
    "\n",
    "#optimizer learning rate\n",
    "opt = tf.keras.optimizers.Adam(learning_rate=init_lr)\n",
    "\n",
    "# Using the optimizer which is the \"Adaptive Momentum Estimate (adam)\"\n",
    "# and determining the Loss function as the 'sparse_categorical_crossentropy'\n",
    "# produce the metric 'accuracy' per iteration.\n",
    "model.compile(\n",
    "    #optimizer='adam', loss='sparse_categorical_crossentropy', metrics=['accuracy'], \n",
    "              optimizer=opt, loss='mse',  metrics=['mse']\n",
    ")"
   ]
  },
  {
   "cell_type": "markdown",
   "id": "e1ea41ff",
   "metadata": {},
   "source": [
    "### Training"
   ]
  },
  {
   "cell_type": "code",
   "execution_count": 23,
   "id": "e1605d40",
   "metadata": {},
   "outputs": [
    {
     "name": "stdout",
     "output_type": "stream",
     "text": [
      "(221, 23)\n",
      "(96, 23)\n",
      "(221,)\n",
      "(96,)\n",
      "<class 'numpy.ndarray'>\n",
      "<class 'numpy.ndarray'>\n"
     ]
    }
   ],
   "source": [
    "print(Xt_train.shape)\n",
    "print(Xt_test.shape)\n",
    "print(y_train.shape)\n",
    "print(y_test.shape)\n",
    "\n",
    "print(type(Xt_train))\n",
    "print(type(y_train))"
   ]
  },
  {
   "cell_type": "code",
   "execution_count": 24,
   "id": "02e53b35",
   "metadata": {},
   "outputs": [
    {
     "name": "stdout",
     "output_type": "stream",
     "text": [
      "Epoch 1/30\n",
      "WARNING:tensorflow:AutoGraph could not transform <function Model.make_train_function.<locals>.train_function at 0x000002422A761558> and will run it as-is.\n",
      "Please report this to the TensorFlow team. When filing the bug, set the verbosity to 10 (on Linux, `export AUTOGRAPH_VERBOSITY=10`) and attach the full output.\n",
      "Cause: 'arguments' object has no attribute 'posonlyargs'\n",
      "To silence this warning, decorate the function with @tf.autograph.experimental.do_not_convert\n",
      "WARNING: AutoGraph could not transform <function Model.make_train_function.<locals>.train_function at 0x000002422A761558> and will run it as-is.\n",
      "Please report this to the TensorFlow team. When filing the bug, set the verbosity to 10 (on Linux, `export AUTOGRAPH_VERBOSITY=10`) and attach the full output.\n",
      "Cause: 'arguments' object has no attribute 'posonlyargs'\n",
      "To silence this warning, decorate the function with @tf.autograph.experimental.do_not_convert\n",
      "WARNING:tensorflow:AutoGraph could not transform <function Model.make_test_function.<locals>.test_function at 0x000002422B95DC18> and will run it as-is.\n",
      "Please report this to the TensorFlow team. When filing the bug, set the verbosity to 10 (on Linux, `export AUTOGRAPH_VERBOSITY=10`) and attach the full output.\n",
      "Cause: 'arguments' object has no attribute 'posonlyargs'\n",
      "To silence this warning, decorate the function with @tf.autograph.experimental.do_not_convert\n",
      "WARNING: AutoGraph could not transform <function Model.make_test_function.<locals>.test_function at 0x000002422B95DC18> and will run it as-is.\n",
      "Please report this to the TensorFlow team. When filing the bug, set the verbosity to 10 (on Linux, `export AUTOGRAPH_VERBOSITY=10`) and attach the full output.\n",
      "Cause: 'arguments' object has no attribute 'posonlyargs'\n",
      "To silence this warning, decorate the function with @tf.autograph.experimental.do_not_convert\n",
      "23/23 - 0s - loss: 0.9431 - mse: 0.9431 - val_loss: 0.1562 - val_mse: 0.1562 - 486ms/epoch - 21ms/step\n",
      "Epoch 2/30\n",
      "23/23 - 0s - loss: 0.6201 - mse: 0.6201 - val_loss: 0.1119 - val_mse: 0.1119 - 40ms/epoch - 2ms/step\n",
      "Epoch 3/30\n",
      "23/23 - 0s - loss: 0.4044 - mse: 0.4044 - val_loss: 0.0924 - val_mse: 0.0924 - 34ms/epoch - 1ms/step\n",
      "Epoch 4/30\n",
      "23/23 - 0s - loss: 0.2753 - mse: 0.2753 - val_loss: 0.0804 - val_mse: 0.0804 - 36ms/epoch - 2ms/step\n",
      "Epoch 5/30\n",
      "23/23 - 0s - loss: 0.1997 - mse: 0.1997 - val_loss: 0.0702 - val_mse: 0.0702 - 38ms/epoch - 2ms/step\n",
      "Epoch 6/30\n",
      "23/23 - 0s - loss: 0.1740 - mse: 0.1740 - val_loss: 0.0604 - val_mse: 0.0604 - 40ms/epoch - 2ms/step\n",
      "Epoch 7/30\n",
      "23/23 - 0s - loss: 0.1352 - mse: 0.1352 - val_loss: 0.0503 - val_mse: 0.0503 - 40ms/epoch - 2ms/step\n",
      "Epoch 8/30\n",
      "23/23 - 0s - loss: 0.1159 - mse: 0.1159 - val_loss: 0.0459 - val_mse: 0.0459 - 44ms/epoch - 2ms/step\n",
      "Epoch 9/30\n",
      "23/23 - 0s - loss: 0.1051 - mse: 0.1051 - val_loss: 0.0422 - val_mse: 0.0422 - 38ms/epoch - 2ms/step\n",
      "Epoch 10/30\n",
      "23/23 - 0s - loss: 0.0940 - mse: 0.0940 - val_loss: 0.0384 - val_mse: 0.0384 - 43ms/epoch - 2ms/step\n",
      "Epoch 11/30\n",
      "23/23 - 0s - loss: 0.0593 - mse: 0.0593 - val_loss: 0.0350 - val_mse: 0.0350 - 36ms/epoch - 2ms/step\n",
      "Epoch 12/30\n",
      "23/23 - 0s - loss: 0.0730 - mse: 0.0730 - val_loss: 0.0319 - val_mse: 0.0319 - 37ms/epoch - 2ms/step\n",
      "Epoch 13/30\n",
      "23/23 - 0s - loss: 0.0658 - mse: 0.0658 - val_loss: 0.0292 - val_mse: 0.0292 - 38ms/epoch - 2ms/step\n",
      "Epoch 14/30\n",
      "23/23 - 0s - loss: 0.0577 - mse: 0.0577 - val_loss: 0.0268 - val_mse: 0.0268 - 36ms/epoch - 2ms/step\n",
      "Epoch 15/30\n",
      "23/23 - 0s - loss: 0.0404 - mse: 0.0404 - val_loss: 0.0259 - val_mse: 0.0259 - 39ms/epoch - 2ms/step\n",
      "Epoch 16/30\n",
      "23/23 - 0s - loss: 0.0462 - mse: 0.0462 - val_loss: 0.0249 - val_mse: 0.0249 - 36ms/epoch - 2ms/step\n",
      "Epoch 17/30\n",
      "23/23 - 0s - loss: 0.0381 - mse: 0.0381 - val_loss: 0.0236 - val_mse: 0.0236 - 41ms/epoch - 2ms/step\n",
      "Epoch 18/30\n",
      "23/23 - 0s - loss: 0.0368 - mse: 0.0368 - val_loss: 0.0228 - val_mse: 0.0228 - 41ms/epoch - 2ms/step\n",
      "Epoch 19/30\n",
      "23/23 - 0s - loss: 0.0335 - mse: 0.0335 - val_loss: 0.0222 - val_mse: 0.0222 - 38ms/epoch - 2ms/step\n",
      "Epoch 20/30\n",
      "23/23 - 0s - loss: 0.0276 - mse: 0.0276 - val_loss: 0.0219 - val_mse: 0.0219 - 41ms/epoch - 2ms/step\n",
      "Epoch 21/30\n",
      "23/23 - 0s - loss: 0.0292 - mse: 0.0292 - val_loss: 0.0218 - val_mse: 0.0218 - 38ms/epoch - 2ms/step\n",
      "Epoch 22/30\n",
      "23/23 - 0s - loss: 0.0323 - mse: 0.0323 - val_loss: 0.0216 - val_mse: 0.0216 - 38ms/epoch - 2ms/step\n",
      "Epoch 23/30\n",
      "23/23 - 0s - loss: 0.0273 - mse: 0.0273 - val_loss: 0.0217 - val_mse: 0.0217 - 38ms/epoch - 2ms/step\n",
      "Epoch 24/30\n",
      "23/23 - 0s - loss: 0.0206 - mse: 0.0206 - val_loss: 0.0217 - val_mse: 0.0217 - 37ms/epoch - 2ms/step\n"
     ]
    },
    {
     "data": {
      "image/png": "[encoded data removed]",
      "text/plain": [
       "<Figure size 864x432 with 1 Axes>"
      ]
     },
     "metadata": {
      "needs_background": "light"
     },
     "output_type": "display_data"
    },
    {
     "data": {
      "image/png": "[encoded data removed]",
      "text/plain": [
       "<Figure size 864x432 with 1 Axes>"
      ]
     },
     "metadata": {
      "needs_background": "light"
     },
     "output_type": "display_data"
    }
   ],
   "source": [
    "# Moniter validation loss and set an early stopping mechanism \n",
    "# once there is an increase. At patience=2, will be tolerant \n",
    "# against random validation loss increases and will allow x\n",
    "# consecutive increases\n",
    "early_stopping = tf.keras.callbacks.EarlyStopping(patience=2)\n",
    "\n",
    "hist = model.fit(Xt_train, y_train,\n",
    "         batch_size = batch_size,\n",
    "         epochs=epochs,\n",
    "         callbacks=[early_stopping],\n",
    "         validation_data = (Xt_test, y_test),\n",
    "         validation_steps = 1,\n",
    "         verbose = 2\n",
    "         )\n",
    "\n",
    "# plot Mean absolute error\n",
    "loss_plot(hist)"
   ]
  },
  {
   "cell_type": "code",
   "execution_count": 25,
   "id": "e0359005",
   "metadata": {},
   "outputs": [
    {
     "name": "stdout",
     "output_type": "stream",
     "text": [
      "WARNING:tensorflow:AutoGraph could not transform <function Model.make_predict_function.<locals>.predict_function at 0x000002422CACCEE8> and will run it as-is.\n",
      "Please report this to the TensorFlow team. When filing the bug, set the verbosity to 10 (on Linux, `export AUTOGRAPH_VERBOSITY=10`) and attach the full output.\n",
      "Cause: 'arguments' object has no attribute 'posonlyargs'\n",
      "To silence this warning, decorate the function with @tf.autograph.experimental.do_not_convert\n",
      "WARNING: AutoGraph could not transform <function Model.make_predict_function.<locals>.predict_function at 0x000002422CACCEE8> and will run it as-is.\n",
      "Please report this to the TensorFlow team. When filing the bug, set the verbosity to 10 (on Linux, `export AUTOGRAPH_VERBOSITY=10`) and attach the full output.\n",
      "Cause: 'arguments' object has no attribute 'posonlyargs'\n",
      "To silence this warning, decorate the function with @tf.autograph.experimental.do_not_convert\n"
     ]
    }
   ],
   "source": [
    "# make predictions and transform\n",
    "predictions = model.predict(Xt_test)"
   ]
  },
  {
   "cell_type": "code",
   "execution_count": 26,
   "id": "0c337604",
   "metadata": {},
   "outputs": [
    {
     "name": "stdout",
     "output_type": "stream",
     "text": [
      "Mean Square Error: 0.03\n",
      "Mean Absolute Error: 0.13\n",
      "Root Mean Square Error: 0.16\n",
      "R-Square: -1.26\n",
      "\n",
      "\n"
     ]
    },
    {
     "data": {
      "text/plain": [
       "Text(0, 0.5, 'Evaluated Recovery Factor (%)')"
      ]
     },
     "execution_count": 26,
     "metadata": {},
     "output_type": "execute_result"
    },
    {
     "data": {
      "image/png": "[encoded data removed]",
      "text/plain": [
       "<Figure size 1008x576 with 1 Axes>"
      ]
     },
     "metadata": {
      "needs_background": "light"
     },
     "output_type": "display_data"
    }
   ],
   "source": [
    "a = y_test\n",
    "b = predictions\n",
    "\n",
    "df_err = evaluate_prediction(b, a)\n",
    "\n",
    "plt.figure(figsize=(14, 8))\n",
    "plt.scatter(a, b, color='blue')\n",
    "plt.plot(a, a, color = 'red', label = 'x=y')\n",
    "plt.xlabel(\"Recovery Factor (%)\", size=14)\n",
    "plt.ylabel(\"Evaluated Recovery Factor (%)\", size=14)"
   ]
  },
  {
   "cell_type": "code",
   "execution_count": 27,
   "id": "8c09e826",
   "metadata": {},
   "outputs": [],
   "source": [
    "# make predictions and transform\n",
    "predictions = model.predict(blind_df_norm_tran)"
   ]
  },
  {
   "cell_type": "code",
   "execution_count": 28,
   "id": "9788af6b",
   "metadata": {},
   "outputs": [
    {
     "data": {
      "text/plain": [
       "Text(0, 0.5, 'Evaluated Recovery Factor (%)')"
      ]
     },
     "execution_count": 28,
     "metadata": {},
     "output_type": "execute_result"
    },
    {
     "data": {
      "image/png": "[encoded data removed]",
      "text/plain": [
       "<Figure size 1008x576 with 1 Axes>"
      ]
     },
     "metadata": {
      "needs_background": "light"
     },
     "output_type": "display_data"
    }
   ],
   "source": [
    "a = dfblind['URF']\n",
    "b = predictions\n",
    "\n",
    "plt.figure(figsize=(14, 8))\n",
    "plt.scatter(a, b, color='blue')\n",
    "plt.plot(a, a, color = 'red', label = 'x=y')\n",
    "plt.xlabel(\"Recovery Factor (%)\", size=14)\n",
    "plt.ylabel(\"Evaluated Recovery Factor (%)\", size=14)"
   ]
  },
  {
   "cell_type": "code",
   "execution_count": 29,
   "id": "202819a8",
   "metadata": {},
   "outputs": [
    {
     "name": "stdout",
     "output_type": "stream",
     "text": [
      "Mean Square Error: 0.02\n",
      "Mean Absolute Error: 0.11\n",
      "Root Mean Square Error: 0.14\n",
      "R-Square: -1.55\n",
      "\n",
      "\n"
     ]
    }
   ],
   "source": [
    "df_err_final = evaluate_prediction(b, a.values)\n"
   ]
  }
 ],
 "metadata": {
  "kernelspec": {
   "display_name": "Python 3",
   "language": "python",
   "name": "python3"
  },
  "language_info": {
   "codemirror_mode": {
    "name": "ipython",
    "version": 3
   },
   "file_extension": ".py",
   "mimetype": "text/x-python",
   "name": "python",
   "nbconvert_exporter": "python",
   "pygments_lexer": "ipython3",
   "version": "3.7.16"
  }
 },
 "nbformat": 4,
 "nbformat_minor": 5
}
